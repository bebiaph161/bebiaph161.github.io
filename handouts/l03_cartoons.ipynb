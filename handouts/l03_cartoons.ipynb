{
 "cells": [
  {
   "cell_type": "markdown",
   "metadata": {},
   "source": [
    "# Analysis of models of flagellar growth\n",
    "\n",
    "(c) 2019–2025 Justin Bois. With the exception of pasted graphics, where the source is noted, this work is licensed under a [Creative Commons Attribution License CC-BY 4.0](https://creativecommons.org/licenses/by/4.0/). All code contained herein is licensed under an [MIT license](https://opensource.org/licenses/MIT).\n",
    "\n",
    "This document was prepared at [Caltech](http://www.caltech.edu) with financial support from the [Donna and Benjamin M. Rosen Bioengineering Center](http://rosen.caltech.edu).\n",
    "\n",
    "<img src=\"caltech_rosen.png\">\n",
    "\n",
    "*This document was generated from a Jupyter notebook, which may be downloaded [here](l03_cartoons.ipynb).*"
   ]
  },
  {
   "cell_type": "code",
   "execution_count": 1,
   "metadata": {},
   "outputs": [
    {
     "data": {
      "text/html": [
       "    <style>\n",
       "        .bk-notebook-logo {\n",
       "            display: block;\n",
       "            width: 20px;\n",
       "            height: 20px;\n",
       "            background-image: url(data:image/png;base64,iVBORw0KGgoAAAANSUhEUgAAABQAAAAUCAYAAACNiR0NAAAABHNCSVQICAgIfAhkiAAAAAlwSFlzAAALEgAACxIB0t1+/AAAABx0RVh0U29mdHdhcmUAQWRvYmUgRmlyZXdvcmtzIENTNui8sowAAAOkSURBVDiNjZRtaJVlGMd/1/08zzln5zjP1LWcU9N0NkN8m2CYjpgQYQXqSs0I84OLIC0hkEKoPtiH3gmKoiJDU7QpLgoLjLIQCpEsNJ1vqUOdO7ppbuec5+V+rj4ctwzd8IIbbi6u+8f1539dt3A78eXC7QizUF7gyV1fD1Yqg4JWz84yffhm0qkFqBogB9rM8tZdtwVsPUhWhGcFJngGeWrPzHm5oaMmkfEg1usvLFyc8jLRqDOMru7AyC8saQr7GG7f5fvDeH7Ej8CM66nIF+8yngt6HWaKh7k49Soy9nXurCi1o3qUbS3zWfrYeQDTB/Qj6kX6Ybhw4B+bOYoLKCC9H3Nu/leUTZ1JdRWkkn2ldcCamzrcf47KKXdAJllSlxAOkRgyHsGC/zRday5Qld9DyoM4/q/rUoy/CXh3jzOu3bHUVZeU+DEn8FInkPBFlu3+nW3Nw0mk6vCDiWg8CeJaxEwuHS3+z5RgY+YBR6V1Z1nxSOfoaPa4LASWxxdNp+VWTk7+4vzaou8v8PN+xo+KY2xsw6une2frhw05CTYOmQvsEhjhWjn0bmXPjpE1+kplmmkP3suftwTubK9Vq22qKmrBhpY4jvd5afdRA3wGjFAgcnTK2s4hY0/GPNIb0nErGMCRxWOOX64Z8RAC4oCXdklmEvcL8o0BfkNK4lUg9HTl+oPlQxdNo3Mg4Nv175e/1LDGzZen30MEjRUtmXSfiTVu1kK8W4txyV6BMKlbgk3lMwYCiusNy9fVfvvwMxv8Ynl6vxoByANLTWplvuj/nF9m2+PDtt1eiHPBr1oIfhCChQMBw6Aw0UulqTKZdfVvfG7VcfIqLG9bcldL/+pdWTLxLUy8Qq38heUIjh4XlzZxzQm19lLFlr8vdQ97rjZVOLf8nclzckbcD4wxXMidpX30sFd37Fv/GtwwhzhxGVAprjbg0gCAEeIgwCZyTV2Z1REEW8O4py0wsjeloKoMr6iCY6dP92H6Vw/oTyICIthibxjm/DfN9lVz8IqtqKYLUXfoKVMVQVVJOElGjrnnUt9T9wbgp8AyYKaGlqingHZU/uG2NTZSVqwHQTWkx9hxjkpWDaCg6Ckj5qebgBVbT3V3NNXMSiWSDdGV3hrtzla7J+duwPOToIg42ChPQOQjspnSlp1V+Gjdged7+8UN5CRAV7a5EdFNwCjEaBR27b3W890TE7g24NAP/mMDXRWrGoFPQI9ls/MWO2dWFAar/xcOIImbbpA3zgAAAABJRU5ErkJggg==);\n",
       "        }\n",
       "    </style>\n",
       "    <div>\n",
       "        <a href=\"https://bokeh.org\" target=\"_blank\" class=\"bk-notebook-logo\"></a>\n",
       "        <span id=\"fae36fa6-2ccd-473a-98e7-caac782e1ab5\">Loading BokehJS ...</span>\n",
       "    </div>\n"
      ]
     },
     "metadata": {},
     "output_type": "display_data"
    },
    {
     "data": {
      "application/javascript": [
       "'use strict';\n",
       "(function(root) {\n",
       "  function now() {\n",
       "    return new Date();\n",
       "  }\n",
       "\n",
       "  const force = true;\n",
       "\n",
       "  if (typeof root._bokeh_onload_callbacks === \"undefined\" || force === true) {\n",
       "    root._bokeh_onload_callbacks = [];\n",
       "    root._bokeh_is_loading = undefined;\n",
       "  }\n",
       "\n",
       "const JS_MIME_TYPE = 'application/javascript';\n",
       "  const HTML_MIME_TYPE = 'text/html';\n",
       "  const EXEC_MIME_TYPE = 'application/vnd.bokehjs_exec.v0+json';\n",
       "  const CLASS_NAME = 'output_bokeh rendered_html';\n",
       "\n",
       "  /**\n",
       "   * Render data to the DOM node\n",
       "   */\n",
       "  function render(props, node) {\n",
       "    const script = document.createElement(\"script\");\n",
       "    node.appendChild(script);\n",
       "  }\n",
       "\n",
       "  /**\n",
       "   * Handle when an output is cleared or removed\n",
       "   */\n",
       "  function handleClearOutput(event, handle) {\n",
       "    function drop(id) {\n",
       "      const view = Bokeh.index.get_by_id(id)\n",
       "      if (view != null) {\n",
       "        view.model.document.clear()\n",
       "        Bokeh.index.delete(view)\n",
       "      }\n",
       "    }\n",
       "\n",
       "    const cell = handle.cell;\n",
       "\n",
       "    const id = cell.output_area._bokeh_element_id;\n",
       "    const server_id = cell.output_area._bokeh_server_id;\n",
       "\n",
       "    // Clean up Bokeh references\n",
       "    if (id != null) {\n",
       "      drop(id)\n",
       "    }\n",
       "\n",
       "    if (server_id !== undefined) {\n",
       "      // Clean up Bokeh references\n",
       "      const cmd_clean = \"from bokeh.io.state import curstate; print(curstate().uuid_to_server['\" + server_id + \"'].get_sessions()[0].document.roots[0]._id)\";\n",
       "      cell.notebook.kernel.execute(cmd_clean, {\n",
       "        iopub: {\n",
       "          output: function(msg) {\n",
       "            const id = msg.content.text.trim()\n",
       "            drop(id)\n",
       "          }\n",
       "        }\n",
       "      });\n",
       "      // Destroy server and session\n",
       "      const cmd_destroy = \"import bokeh.io.notebook as ion; ion.destroy_server('\" + server_id + \"')\";\n",
       "      cell.notebook.kernel.execute(cmd_destroy);\n",
       "    }\n",
       "  }\n",
       "\n",
       "  /**\n",
       "   * Handle when a new output is added\n",
       "   */\n",
       "  function handleAddOutput(event, handle) {\n",
       "    const output_area = handle.output_area;\n",
       "    const output = handle.output;\n",
       "\n",
       "    // limit handleAddOutput to display_data with EXEC_MIME_TYPE content only\n",
       "    if ((output.output_type != \"display_data\") || (!Object.prototype.hasOwnProperty.call(output.data, EXEC_MIME_TYPE))) {\n",
       "      return\n",
       "    }\n",
       "\n",
       "    const toinsert = output_area.element.find(\".\" + CLASS_NAME.split(' ')[0]);\n",
       "\n",
       "    if (output.metadata[EXEC_MIME_TYPE][\"id\"] !== undefined) {\n",
       "      toinsert[toinsert.length - 1].firstChild.textContent = output.data[JS_MIME_TYPE];\n",
       "      // store reference to embed id on output_area\n",
       "      output_area._bokeh_element_id = output.metadata[EXEC_MIME_TYPE][\"id\"];\n",
       "    }\n",
       "    if (output.metadata[EXEC_MIME_TYPE][\"server_id\"] !== undefined) {\n",
       "      const bk_div = document.createElement(\"div\");\n",
       "      bk_div.innerHTML = output.data[HTML_MIME_TYPE];\n",
       "      const script_attrs = bk_div.children[0].attributes;\n",
       "      for (let i = 0; i < script_attrs.length; i++) {\n",
       "        toinsert[toinsert.length - 1].firstChild.setAttribute(script_attrs[i].name, script_attrs[i].value);\n",
       "        toinsert[toinsert.length - 1].firstChild.textContent = bk_div.children[0].textContent\n",
       "      }\n",
       "      // store reference to server id on output_area\n",
       "      output_area._bokeh_server_id = output.metadata[EXEC_MIME_TYPE][\"server_id\"];\n",
       "    }\n",
       "  }\n",
       "\n",
       "  function register_renderer(events, OutputArea) {\n",
       "\n",
       "    function append_mime(data, metadata, element) {\n",
       "      // create a DOM node to render to\n",
       "      const toinsert = this.create_output_subarea(\n",
       "        metadata,\n",
       "        CLASS_NAME,\n",
       "        EXEC_MIME_TYPE\n",
       "      );\n",
       "      this.keyboard_manager.register_events(toinsert);\n",
       "      // Render to node\n",
       "      const props = {data: data, metadata: metadata[EXEC_MIME_TYPE]};\n",
       "      render(props, toinsert[toinsert.length - 1]);\n",
       "      element.append(toinsert);\n",
       "      return toinsert\n",
       "    }\n",
       "\n",
       "    /* Handle when an output is cleared or removed */\n",
       "    events.on('clear_output.CodeCell', handleClearOutput);\n",
       "    events.on('delete.Cell', handleClearOutput);\n",
       "\n",
       "    /* Handle when a new output is added */\n",
       "    events.on('output_added.OutputArea', handleAddOutput);\n",
       "\n",
       "    /**\n",
       "     * Register the mime type and append_mime function with output_area\n",
       "     */\n",
       "    OutputArea.prototype.register_mime_type(EXEC_MIME_TYPE, append_mime, {\n",
       "      /* Is output safe? */\n",
       "      safe: true,\n",
       "      /* Index of renderer in `output_area.display_order` */\n",
       "      index: 0\n",
       "    });\n",
       "  }\n",
       "\n",
       "  // register the mime type if in Jupyter Notebook environment and previously unregistered\n",
       "  if (root.Jupyter !== undefined) {\n",
       "    const events = require('base/js/events');\n",
       "    const OutputArea = require('notebook/js/outputarea').OutputArea;\n",
       "\n",
       "    if (OutputArea.prototype.mime_types().indexOf(EXEC_MIME_TYPE) == -1) {\n",
       "      register_renderer(events, OutputArea);\n",
       "    }\n",
       "  }\n",
       "  if (typeof (root._bokeh_timeout) === \"undefined\" || force === true) {\n",
       "    root._bokeh_timeout = Date.now() + 5000;\n",
       "    root._bokeh_failed_load = false;\n",
       "  }\n",
       "\n",
       "  const NB_LOAD_WARNING = {'data': {'text/html':\n",
       "     \"<div style='background-color: #fdd'>\\n\"+\n",
       "     \"<p>\\n\"+\n",
       "     \"BokehJS does not appear to have successfully loaded. If loading BokehJS from CDN, this \\n\"+\n",
       "     \"may be due to a slow or bad network connection. Possible fixes:\\n\"+\n",
       "     \"</p>\\n\"+\n",
       "     \"<ul>\\n\"+\n",
       "     \"<li>re-rerun `output_notebook()` to attempt to load from CDN again, or</li>\\n\"+\n",
       "     \"<li>use INLINE resources instead, as so:</li>\\n\"+\n",
       "     \"</ul>\\n\"+\n",
       "     \"<code>\\n\"+\n",
       "     \"from bokeh.resources import INLINE\\n\"+\n",
       "     \"output_notebook(resources=INLINE)\\n\"+\n",
       "     \"</code>\\n\"+\n",
       "     \"</div>\"}};\n",
       "\n",
       "  function display_loaded(error = null) {\n",
       "    const el = document.getElementById(\"fae36fa6-2ccd-473a-98e7-caac782e1ab5\");\n",
       "    if (el != null) {\n",
       "      const html = (() => {\n",
       "        if (typeof root.Bokeh === \"undefined\") {\n",
       "          if (error == null) {\n",
       "            return \"BokehJS is loading ...\";\n",
       "          } else {\n",
       "            return \"BokehJS failed to load.\";\n",
       "          }\n",
       "        } else {\n",
       "          const prefix = `BokehJS ${root.Bokeh.version}`;\n",
       "          if (error == null) {\n",
       "            return `${prefix} successfully loaded.`;\n",
       "          } else {\n",
       "            return `${prefix} <b>encountered errors</b> while loading and may not function as expected.`;\n",
       "          }\n",
       "        }\n",
       "      })();\n",
       "      el.innerHTML = html;\n",
       "\n",
       "      if (error != null) {\n",
       "        const wrapper = document.createElement(\"div\");\n",
       "        wrapper.style.overflow = \"auto\";\n",
       "        wrapper.style.height = \"5em\";\n",
       "        wrapper.style.resize = \"vertical\";\n",
       "        const content = document.createElement(\"div\");\n",
       "        content.style.fontFamily = \"monospace\";\n",
       "        content.style.whiteSpace = \"pre-wrap\";\n",
       "        content.style.backgroundColor = \"rgb(255, 221, 221)\";\n",
       "        content.textContent = error.stack ?? error.toString();\n",
       "        wrapper.append(content);\n",
       "        el.append(wrapper);\n",
       "      }\n",
       "    } else if (Date.now() < root._bokeh_timeout) {\n",
       "      setTimeout(() => display_loaded(error), 100);\n",
       "    }\n",
       "  }\n",
       "\n",
       "  function run_callbacks() {\n",
       "    try {\n",
       "      root._bokeh_onload_callbacks.forEach(function(callback) {\n",
       "        if (callback != null)\n",
       "          callback();\n",
       "      });\n",
       "    } finally {\n",
       "      delete root._bokeh_onload_callbacks\n",
       "    }\n",
       "    console.debug(\"Bokeh: all callbacks have finished\");\n",
       "  }\n",
       "\n",
       "  function load_libs(css_urls, js_urls, callback) {\n",
       "    if (css_urls == null) css_urls = [];\n",
       "    if (js_urls == null) js_urls = [];\n",
       "\n",
       "    root._bokeh_onload_callbacks.push(callback);\n",
       "    if (root._bokeh_is_loading > 0) {\n",
       "      console.debug(\"Bokeh: BokehJS is being loaded, scheduling callback at\", now());\n",
       "      return null;\n",
       "    }\n",
       "    if (js_urls == null || js_urls.length === 0) {\n",
       "      run_callbacks();\n",
       "      return null;\n",
       "    }\n",
       "    console.debug(\"Bokeh: BokehJS not loaded, scheduling load and callback at\", now());\n",
       "    root._bokeh_is_loading = css_urls.length + js_urls.length;\n",
       "\n",
       "    function on_load() {\n",
       "      root._bokeh_is_loading--;\n",
       "      if (root._bokeh_is_loading === 0) {\n",
       "        console.debug(\"Bokeh: all BokehJS libraries/stylesheets loaded\");\n",
       "        run_callbacks()\n",
       "      }\n",
       "    }\n",
       "\n",
       "    function on_error(url) {\n",
       "      console.error(\"failed to load \" + url);\n",
       "    }\n",
       "\n",
       "    for (let i = 0; i < css_urls.length; i++) {\n",
       "      const url = css_urls[i];\n",
       "      const element = document.createElement(\"link\");\n",
       "      element.onload = on_load;\n",
       "      element.onerror = on_error.bind(null, url);\n",
       "      element.rel = \"stylesheet\";\n",
       "      element.type = \"text/css\";\n",
       "      element.href = url;\n",
       "      console.debug(\"Bokeh: injecting link tag for BokehJS stylesheet: \", url);\n",
       "      document.body.appendChild(element);\n",
       "    }\n",
       "\n",
       "    for (let i = 0; i < js_urls.length; i++) {\n",
       "      const url = js_urls[i];\n",
       "      const element = document.createElement('script');\n",
       "      element.onload = on_load;\n",
       "      element.onerror = on_error.bind(null, url);\n",
       "      element.async = false;\n",
       "      element.src = url;\n",
       "      console.debug(\"Bokeh: injecting script tag for BokehJS library: \", url);\n",
       "      document.head.appendChild(element);\n",
       "    }\n",
       "  };\n",
       "\n",
       "  function inject_raw_css(css) {\n",
       "    const element = document.createElement(\"style\");\n",
       "    element.appendChild(document.createTextNode(css));\n",
       "    document.body.appendChild(element);\n",
       "  }\n",
       "\n",
       "  const js_urls = [\"https://cdn.bokeh.org/bokeh/release/bokeh-3.6.0.min.js\", \"https://cdn.bokeh.org/bokeh/release/bokeh-gl-3.6.0.min.js\", \"https://cdn.bokeh.org/bokeh/release/bokeh-widgets-3.6.0.min.js\", \"https://cdn.bokeh.org/bokeh/release/bokeh-tables-3.6.0.min.js\", \"https://cdn.bokeh.org/bokeh/release/bokeh-mathjax-3.6.0.min.js\"];\n",
       "  const css_urls = [];\n",
       "\n",
       "  const inline_js = [    function(Bokeh) {\n",
       "      Bokeh.set_log_level(\"info\");\n",
       "    },\n",
       "function(Bokeh) {\n",
       "    }\n",
       "  ];\n",
       "\n",
       "  function run_inline_js() {\n",
       "    if (root.Bokeh !== undefined || force === true) {\n",
       "      try {\n",
       "            for (let i = 0; i < inline_js.length; i++) {\n",
       "      inline_js[i].call(root, root.Bokeh);\n",
       "    }\n",
       "\n",
       "      } catch (error) {display_loaded(error);throw error;\n",
       "      }if (force === true) {\n",
       "        display_loaded();\n",
       "      }} else if (Date.now() < root._bokeh_timeout) {\n",
       "      setTimeout(run_inline_js, 100);\n",
       "    } else if (!root._bokeh_failed_load) {\n",
       "      console.log(\"Bokeh: BokehJS failed to load within specified timeout.\");\n",
       "      root._bokeh_failed_load = true;\n",
       "    } else if (force !== true) {\n",
       "      const cell = $(document.getElementById(\"fae36fa6-2ccd-473a-98e7-caac782e1ab5\")).parents('.cell').data().cell;\n",
       "      cell.output_area.append_execute_result(NB_LOAD_WARNING)\n",
       "    }\n",
       "  }\n",
       "\n",
       "  if (root._bokeh_is_loading === 0) {\n",
       "    console.debug(\"Bokeh: BokehJS loaded, going straight to plotting\");\n",
       "    run_inline_js();\n",
       "  } else {\n",
       "    load_libs(css_urls, js_urls, function() {\n",
       "      console.debug(\"Bokeh: BokehJS plotting callback run at\", now());\n",
       "      run_inline_js();\n",
       "    });\n",
       "  }\n",
       "}(window));"
      ],
      "application/vnd.bokehjs_load.v0+json": "'use strict';\n(function(root) {\n  function now() {\n    return new Date();\n  }\n\n  const force = true;\n\n  if (typeof root._bokeh_onload_callbacks === \"undefined\" || force === true) {\n    root._bokeh_onload_callbacks = [];\n    root._bokeh_is_loading = undefined;\n  }\n\n\n  if (typeof (root._bokeh_timeout) === \"undefined\" || force === true) {\n    root._bokeh_timeout = Date.now() + 5000;\n    root._bokeh_failed_load = false;\n  }\n\n  const NB_LOAD_WARNING = {'data': {'text/html':\n     \"<div style='background-color: #fdd'>\\n\"+\n     \"<p>\\n\"+\n     \"BokehJS does not appear to have successfully loaded. If loading BokehJS from CDN, this \\n\"+\n     \"may be due to a slow or bad network connection. Possible fixes:\\n\"+\n     \"</p>\\n\"+\n     \"<ul>\\n\"+\n     \"<li>re-rerun `output_notebook()` to attempt to load from CDN again, or</li>\\n\"+\n     \"<li>use INLINE resources instead, as so:</li>\\n\"+\n     \"</ul>\\n\"+\n     \"<code>\\n\"+\n     \"from bokeh.resources import INLINE\\n\"+\n     \"output_notebook(resources=INLINE)\\n\"+\n     \"</code>\\n\"+\n     \"</div>\"}};\n\n  function display_loaded(error = null) {\n    const el = document.getElementById(\"fae36fa6-2ccd-473a-98e7-caac782e1ab5\");\n    if (el != null) {\n      const html = (() => {\n        if (typeof root.Bokeh === \"undefined\") {\n          if (error == null) {\n            return \"BokehJS is loading ...\";\n          } else {\n            return \"BokehJS failed to load.\";\n          }\n        } else {\n          const prefix = `BokehJS ${root.Bokeh.version}`;\n          if (error == null) {\n            return `${prefix} successfully loaded.`;\n          } else {\n            return `${prefix} <b>encountered errors</b> while loading and may not function as expected.`;\n          }\n        }\n      })();\n      el.innerHTML = html;\n\n      if (error != null) {\n        const wrapper = document.createElement(\"div\");\n        wrapper.style.overflow = \"auto\";\n        wrapper.style.height = \"5em\";\n        wrapper.style.resize = \"vertical\";\n        const content = document.createElement(\"div\");\n        content.style.fontFamily = \"monospace\";\n        content.style.whiteSpace = \"pre-wrap\";\n        content.style.backgroundColor = \"rgb(255, 221, 221)\";\n        content.textContent = error.stack ?? error.toString();\n        wrapper.append(content);\n        el.append(wrapper);\n      }\n    } else if (Date.now() < root._bokeh_timeout) {\n      setTimeout(() => display_loaded(error), 100);\n    }\n  }\n\n  function run_callbacks() {\n    try {\n      root._bokeh_onload_callbacks.forEach(function(callback) {\n        if (callback != null)\n          callback();\n      });\n    } finally {\n      delete root._bokeh_onload_callbacks\n    }\n    console.debug(\"Bokeh: all callbacks have finished\");\n  }\n\n  function load_libs(css_urls, js_urls, callback) {\n    if (css_urls == null) css_urls = [];\n    if (js_urls == null) js_urls = [];\n\n    root._bokeh_onload_callbacks.push(callback);\n    if (root._bokeh_is_loading > 0) {\n      console.debug(\"Bokeh: BokehJS is being loaded, scheduling callback at\", now());\n      return null;\n    }\n    if (js_urls == null || js_urls.length === 0) {\n      run_callbacks();\n      return null;\n    }\n    console.debug(\"Bokeh: BokehJS not loaded, scheduling load and callback at\", now());\n    root._bokeh_is_loading = css_urls.length + js_urls.length;\n\n    function on_load() {\n      root._bokeh_is_loading--;\n      if (root._bokeh_is_loading === 0) {\n        console.debug(\"Bokeh: all BokehJS libraries/stylesheets loaded\");\n        run_callbacks()\n      }\n    }\n\n    function on_error(url) {\n      console.error(\"failed to load \" + url);\n    }\n\n    for (let i = 0; i < css_urls.length; i++) {\n      const url = css_urls[i];\n      const element = document.createElement(\"link\");\n      element.onload = on_load;\n      element.onerror = on_error.bind(null, url);\n      element.rel = \"stylesheet\";\n      element.type = \"text/css\";\n      element.href = url;\n      console.debug(\"Bokeh: injecting link tag for BokehJS stylesheet: \", url);\n      document.body.appendChild(element);\n    }\n\n    for (let i = 0; i < js_urls.length; i++) {\n      const url = js_urls[i];\n      const element = document.createElement('script');\n      element.onload = on_load;\n      element.onerror = on_error.bind(null, url);\n      element.async = false;\n      element.src = url;\n      console.debug(\"Bokeh: injecting script tag for BokehJS library: \", url);\n      document.head.appendChild(element);\n    }\n  };\n\n  function inject_raw_css(css) {\n    const element = document.createElement(\"style\");\n    element.appendChild(document.createTextNode(css));\n    document.body.appendChild(element);\n  }\n\n  const js_urls = [\"https://cdn.bokeh.org/bokeh/release/bokeh-3.6.0.min.js\", \"https://cdn.bokeh.org/bokeh/release/bokeh-gl-3.6.0.min.js\", \"https://cdn.bokeh.org/bokeh/release/bokeh-widgets-3.6.0.min.js\", \"https://cdn.bokeh.org/bokeh/release/bokeh-tables-3.6.0.min.js\", \"https://cdn.bokeh.org/bokeh/release/bokeh-mathjax-3.6.0.min.js\"];\n  const css_urls = [];\n\n  const inline_js = [    function(Bokeh) {\n      Bokeh.set_log_level(\"info\");\n    },\nfunction(Bokeh) {\n    }\n  ];\n\n  function run_inline_js() {\n    if (root.Bokeh !== undefined || force === true) {\n      try {\n            for (let i = 0; i < inline_js.length; i++) {\n      inline_js[i].call(root, root.Bokeh);\n    }\n\n      } catch (error) {display_loaded(error);throw error;\n      }if (force === true) {\n        display_loaded();\n      }} else if (Date.now() < root._bokeh_timeout) {\n      setTimeout(run_inline_js, 100);\n    } else if (!root._bokeh_failed_load) {\n      console.log(\"Bokeh: BokehJS failed to load within specified timeout.\");\n      root._bokeh_failed_load = true;\n    } else if (force !== true) {\n      const cell = $(document.getElementById(\"fae36fa6-2ccd-473a-98e7-caac782e1ab5\")).parents('.cell').data().cell;\n      cell.output_area.append_execute_result(NB_LOAD_WARNING)\n    }\n  }\n\n  if (root._bokeh_is_loading === 0) {\n    console.debug(\"Bokeh: BokehJS loaded, going straight to plotting\");\n    run_inline_js();\n  } else {\n    load_libs(css_urls, js_urls, function() {\n      console.debug(\"Bokeh: BokehJS plotting callback run at\", now());\n      run_inline_js();\n    });\n  }\n}(window));"
     },
     "metadata": {},
     "output_type": "display_data"
    }
   ],
   "source": [
    "# Our numerical workhorses\n",
    "import numpy as np\n",
    "import scipy.integrate\n",
    "import scipy.optimize\n",
    "\n",
    "# Import plotting tools\n",
    "import bokeh.plotting\n",
    "import bokeh.io\n",
    "bokeh.io.output_notebook()"
   ]
  },
  {
   "cell_type": "markdown",
   "metadata": {},
   "source": [
    "## The balance point model\n",
    "\n",
    "The balance point model gives the rate of growth of a flagellum (in dimensionless form) as\n",
    "\n",
    "\\begin{align}\n",
    "\\frac{\\mathrm{d}\\ell}{\\mathrm{d}t} = \\frac{1}{\\ell} - 1.\n",
    "\\end{align}"
   ]
  },
  {
   "cell_type": "markdown",
   "metadata": {},
   "source": [
    "### Numerical integration of the balance point model\n",
    "\n",
    "We can solve this numerically using the `scipy.integrate.odeint()` function.  It uses the Hindmarsh algorithm, intelligently dealing with potential stiffness in the equations. You can look at the documentation for `scipy.integrate.odeint()` [here](https://docs.scipy.org/doc/scipy/reference/generated/scipy.integrate.odeint.html). The typical function call to `scipy.integrate.odeint()` is of the form\n",
    "\n",
    "    scipy.integrate.odeint(f, y0, t, args=()).\n",
    "\n",
    "`scipy.integrate.odeint()` solves the system of ODEs\n",
    "\n",
    "\\begin{align}\n",
    "\\frac{\\mathrm{d}\\mathbf{y}}{\\mathrm{d}t} =f(\\mathbf{y}, t),\n",
    "\\end{align}\n",
    " \n",
    "where $\\mathbf{y}$ is a vector and  $f(\\mathbf{y},t)$ is vector-valued. Thus, `scipy.integrate.odeint()` takes as its first argument a function that returns an array containing the right hand side of the system of ODEs you are computing. When you define this function, it must be of the form\n",
    "\n",
    "    f(y, t, *args)\n",
    "\n",
    "where the `*args` indicates the parameters on which the function depends.  The second argument to `scipy.integrate.odeint()` is the initial condition, again stored as an array. The third argument is an array of time points for which you want the solution to the ODEs. Finally, `args` is a tuple containing the other parameters to be passed into the function `f`.\n",
    "\n",
    "In the present case, we have only a single ODE.  We just have to code up the right hand side and solve!"
   ]
  },
  {
   "cell_type": "code",
   "execution_count": 2,
   "metadata": {},
   "outputs": [],
   "source": [
    "def balance_point_rhs(ell, t):\n",
    "    \"\"\"\n",
    "    Right hand side of balance equation.  I use `ell` for length because\n",
    "    `l` looks like a one.\n",
    "    \"\"\"\n",
    "    return 1 / ell - 1"
   ]
  },
  {
   "cell_type": "markdown",
   "metadata": {},
   "source": [
    "Now that we have defined that function, we specify the initial condition.  In our  case, we will watch how the flagellum grows from a small nub of length 0.1.  (Remember, $\\ell = 0$ is unphysical under this model.)"
   ]
  },
  {
   "cell_type": "code",
   "execution_count": 3,
   "metadata": {},
   "outputs": [],
   "source": [
    "ell0 = np.array([0.1])"
   ]
  },
  {
   "cell_type": "markdown",
   "metadata": {},
   "source": [
    "Finally, we specify the dimensionless time points we want for our solution."
   ]
  },
  {
   "cell_type": "code",
   "execution_count": 4,
   "metadata": {},
   "outputs": [],
   "source": [
    "t = np.linspace(0, 4, 200)"
   ]
  },
  {
   "cell_type": "markdown",
   "metadata": {},
   "source": [
    "Now, we call `scipy.integrate.odeint()` to do the solution."
   ]
  },
  {
   "cell_type": "code",
   "execution_count": 5,
   "metadata": {},
   "outputs": [],
   "source": [
    "ell = scipy.integrate.odeint(balance_point_rhs, ell0, t).flatten()"
   ]
  },
  {
   "cell_type": "markdown",
   "metadata": {},
   "source": [
    "Done!  That's it.  Now, we just have to plot the solution."
   ]
  },
  {
   "cell_type": "code",
   "execution_count": 6,
   "metadata": {},
   "outputs": [
    {
     "data": {
      "text/html": [
       "\n",
       "  <div id=\"ff0753d1-6582-4191-9068-4e47cf2744f1\" data-root-id=\"p1001\" style=\"display: contents;\"></div>\n"
      ]
     },
     "metadata": {},
     "output_type": "display_data"
    },
    {
     "data": {
      "application/javascript": [
       "(function(root) {\n",
       "  function embed_document(root) {\n",
       "  const docs_json = {\"b4be339d-f785-49df-910f-090e266f50d2\":{\"version\":\"3.6.0\",\"title\":\"Bokeh Application\",\"roots\":[{\"type\":\"object\",\"name\":\"Figure\",\"id\":\"p1001\",\"attributes\":{\"x_range\":{\"type\":\"object\",\"name\":\"Range1d\",\"id\":\"p1010\",\"attributes\":{\"end\":4}},\"y_range\":{\"type\":\"object\",\"name\":\"Range1d\",\"id\":\"p1011\"},\"x_scale\":{\"type\":\"object\",\"name\":\"LinearScale\",\"id\":\"p1012\"},\"y_scale\":{\"type\":\"object\",\"name\":\"LinearScale\",\"id\":\"p1013\"},\"title\":{\"type\":\"object\",\"name\":\"Title\",\"id\":\"p1008\"},\"renderers\":[{\"type\":\"object\",\"name\":\"GlyphRenderer\",\"id\":\"p1043\",\"attributes\":{\"data_source\":{\"type\":\"object\",\"name\":\"ColumnDataSource\",\"id\":\"p1037\",\"attributes\":{\"selected\":{\"type\":\"object\",\"name\":\"Selection\",\"id\":\"p1038\",\"attributes\":{\"indices\":[],\"line_indices\":[]}},\"selection_policy\":{\"type\":\"object\",\"name\":\"UnionRenderers\",\"id\":\"p1039\"},\"data\":{\"type\":\"map\",\"entries\":[[\"x\",{\"type\":\"ndarray\",\"array\":{\"type\":\"bytes\",\"data\":\"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\"},\"shape\":[200],\"dtype\":\"float64\",\"order\":\"little\"}],[\"y\",{\"type\":\"ndarray\",\"array\":{\"type\":\"bytes\",\"data\":\"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\"},\"shape\":[200],\"dtype\":\"float64\",\"order\":\"little\"}]]}}},\"view\":{\"type\":\"object\",\"name\":\"CDSView\",\"id\":\"p1044\",\"attributes\":{\"filter\":{\"type\":\"object\",\"name\":\"AllIndices\",\"id\":\"p1045\"}}},\"glyph\":{\"type\":\"object\",\"name\":\"Line\",\"id\":\"p1040\",\"attributes\":{\"x\":{\"type\":\"field\",\"field\":\"x\"},\"y\":{\"type\":\"field\",\"field\":\"y\"},\"line_color\":\"#1f77b4\",\"line_width\":3}},\"nonselection_glyph\":{\"type\":\"object\",\"name\":\"Line\",\"id\":\"p1041\",\"attributes\":{\"x\":{\"type\":\"field\",\"field\":\"x\"},\"y\":{\"type\":\"field\",\"field\":\"y\"},\"line_color\":\"#1f77b4\",\"line_alpha\":0.1,\"line_width\":3}},\"muted_glyph\":{\"type\":\"object\",\"name\":\"Line\",\"id\":\"p1042\",\"attributes\":{\"x\":{\"type\":\"field\",\"field\":\"x\"},\"y\":{\"type\":\"field\",\"field\":\"y\"},\"line_color\":\"#1f77b4\",\"line_alpha\":0.2,\"line_width\":3}}}}],\"toolbar\":{\"type\":\"object\",\"name\":\"Toolbar\",\"id\":\"p1009\",\"attributes\":{\"tools\":[{\"type\":\"object\",\"name\":\"PanTool\",\"id\":\"p1024\"},{\"type\":\"object\",\"name\":\"WheelZoomTool\",\"id\":\"p1025\",\"attributes\":{\"renderers\":\"auto\"}},{\"type\":\"object\",\"name\":\"BoxZoomTool\",\"id\":\"p1026\",\"attributes\":{\"overlay\":{\"type\":\"object\",\"name\":\"BoxAnnotation\",\"id\":\"p1027\",\"attributes\":{\"syncable\":false,\"line_color\":\"black\",\"line_alpha\":1.0,\"line_width\":2,\"line_dash\":[4,4],\"fill_color\":\"lightgrey\",\"fill_alpha\":0.5,\"level\":\"overlay\",\"visible\":false,\"left\":{\"type\":\"number\",\"value\":\"nan\"},\"right\":{\"type\":\"number\",\"value\":\"nan\"},\"top\":{\"type\":\"number\",\"value\":\"nan\"},\"bottom\":{\"type\":\"number\",\"value\":\"nan\"},\"left_units\":\"canvas\",\"right_units\":\"canvas\",\"top_units\":\"canvas\",\"bottom_units\":\"canvas\",\"handles\":{\"type\":\"object\",\"name\":\"BoxInteractionHandles\",\"id\":\"p1033\",\"attributes\":{\"all\":{\"type\":\"object\",\"name\":\"AreaVisuals\",\"id\":\"p1032\",\"attributes\":{\"fill_color\":\"white\",\"hover_fill_color\":\"lightgray\"}}}}}}}},{\"type\":\"object\",\"name\":\"SaveTool\",\"id\":\"p1034\"},{\"type\":\"object\",\"name\":\"ResetTool\",\"id\":\"p1035\"},{\"type\":\"object\",\"name\":\"HelpTool\",\"id\":\"p1036\"}]}},\"left\":[{\"type\":\"object\",\"name\":\"LinearAxis\",\"id\":\"p1019\",\"attributes\":{\"ticker\":{\"type\":\"object\",\"name\":\"BasicTicker\",\"id\":\"p1020\",\"attributes\":{\"mantissas\":[1,2,5]}},\"formatter\":{\"type\":\"object\",\"name\":\"BasicTickFormatter\",\"id\":\"p1021\"},\"axis_label\":\"dimensionless flag. length\",\"major_label_policy\":{\"type\":\"object\",\"name\":\"AllLabels\",\"id\":\"p1022\"}}}],\"below\":[{\"type\":\"object\",\"name\":\"LinearAxis\",\"id\":\"p1014\",\"attributes\":{\"ticker\":{\"type\":\"object\",\"name\":\"BasicTicker\",\"id\":\"p1015\",\"attributes\":{\"mantissas\":[1,2,5]}},\"formatter\":{\"type\":\"object\",\"name\":\"BasicTickFormatter\",\"id\":\"p1016\"},\"axis_label\":\"dimensionless time\",\"major_label_policy\":{\"type\":\"object\",\"name\":\"AllLabels\",\"id\":\"p1017\"}}}],\"center\":[{\"type\":\"object\",\"name\":\"Grid\",\"id\":\"p1018\",\"attributes\":{\"axis\":{\"id\":\"p1014\"}}},{\"type\":\"object\",\"name\":\"Grid\",\"id\":\"p1023\",\"attributes\":{\"dimension\":1,\"axis\":{\"id\":\"p1019\"}}}],\"frame_width\":350,\"frame_height\":250}}]}};\n",
       "  const render_items = [{\"docid\":\"b4be339d-f785-49df-910f-090e266f50d2\",\"roots\":{\"p1001\":\"ff0753d1-6582-4191-9068-4e47cf2744f1\"},\"root_ids\":[\"p1001\"]}];\n",
       "  void root.Bokeh.embed.embed_items_notebook(docs_json, render_items);\n",
       "  }\n",
       "  if (root.Bokeh !== undefined) {\n",
       "    embed_document(root);\n",
       "  } else {\n",
       "    let attempts = 0;\n",
       "    const timer = setInterval(function(root) {\n",
       "      if (root.Bokeh !== undefined) {\n",
       "        clearInterval(timer);\n",
       "        embed_document(root);\n",
       "      } else {\n",
       "        attempts++;\n",
       "        if (attempts > 100) {\n",
       "          clearInterval(timer);\n",
       "          console.log(\"Bokeh: ERROR: Unable to run BokehJS code because BokehJS library is missing\");\n",
       "        }\n",
       "      }\n",
       "    }, 10, root)\n",
       "  }\n",
       "})(window);"
      ],
      "application/vnd.bokehjs_exec.v0+json": ""
     },
     "metadata": {
      "application/vnd.bokehjs_exec.v0+json": {
       "id": "p1001"
      }
     },
     "output_type": "display_data"
    }
   ],
   "source": [
    "# Set up the figure\n",
    "p = bokeh.plotting.figure(\n",
    "    frame_width=350,\n",
    "    frame_height=250,\n",
    "    x_range=[0, 4],\n",
    "    y_range=[0, 1],\n",
    "    x_axis_label=\"dimensionless time\",\n",
    "    y_axis_label=\"dimensionless flag. length\",\n",
    ")\n",
    "\n",
    "# Specify the glyphs\n",
    "p.line(t, ell, line_width=3)\n",
    "\n",
    "# Render\n",
    "bokeh.io.show(p)"
   ]
  },
  {
   "cell_type": "markdown",
   "metadata": {},
   "source": [
    "### Shrinkage dynamics\n",
    "\n",
    "Interestingly, we can also watch a flagellum shrink.  Let's start it at length $\\ell = 2$."
   ]
  },
  {
   "cell_type": "code",
   "execution_count": 7,
   "metadata": {},
   "outputs": [
    {
     "data": {
      "text/html": [
       "\n",
       "  <div id=\"c1082e0e-80bd-4a10-bd6f-8af70156b776\" data-root-id=\"p1048\" style=\"display: contents;\"></div>\n"
      ]
     },
     "metadata": {},
     "output_type": "display_data"
    },
    {
     "data": {
      "application/javascript": [
       "(function(root) {\n",
       "  function embed_document(root) {\n",
       "  const docs_json = {\"ec11dd53-52ea-4cf5-bbb4-e0104ef00d94\":{\"version\":\"3.6.0\",\"title\":\"Bokeh Application\",\"roots\":[{\"type\":\"object\",\"name\":\"Figure\",\"id\":\"p1048\",\"attributes\":{\"x_range\":{\"type\":\"object\",\"name\":\"Range1d\",\"id\":\"p1057\",\"attributes\":{\"end\":5}},\"y_range\":{\"type\":\"object\",\"name\":\"Range1d\",\"id\":\"p1058\",\"attributes\":{\"end\":2}},\"x_scale\":{\"type\":\"object\",\"name\":\"LinearScale\",\"id\":\"p1059\"},\"y_scale\":{\"type\":\"object\",\"name\":\"LinearScale\",\"id\":\"p1060\"},\"title\":{\"type\":\"object\",\"name\":\"Title\",\"id\":\"p1055\"},\"renderers\":[{\"type\":\"object\",\"name\":\"GlyphRenderer\",\"id\":\"p1090\",\"attributes\":{\"data_source\":{\"type\":\"object\",\"name\":\"ColumnDataSource\",\"id\":\"p1084\",\"attributes\":{\"selected\":{\"type\":\"object\",\"name\":\"Selection\",\"id\":\"p1085\",\"attributes\":{\"indices\":[],\"line_indices\":[]}},\"selection_policy\":{\"type\":\"object\",\"name\":\"UnionRenderers\",\"id\":\"p1086\"},\"data\":{\"type\":\"map\",\"entries\":[[\"x\",{\"type\":\"ndarray\",\"array\":{\"type\":\"bytes\",\"data\":\"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\"},\"shape\":[200],\"dtype\":\"float64\",\"order\":\"little\"}],[\"y\",{\"type\":\"ndarray\",\"array\":{\"type\":\"bytes\",\"data\":\"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\"},\"shape\":[200],\"dtype\":\"float64\",\"order\":\"little\"}]]}}},\"view\":{\"type\":\"object\",\"name\":\"CDSView\",\"id\":\"p1091\",\"attributes\":{\"filter\":{\"type\":\"object\",\"name\":\"AllIndices\",\"id\":\"p1092\"}}},\"glyph\":{\"type\":\"object\",\"name\":\"Line\",\"id\":\"p1087\",\"attributes\":{\"x\":{\"type\":\"field\",\"field\":\"x\"},\"y\":{\"type\":\"field\",\"field\":\"y\"},\"line_color\":\"#1f77b4\",\"line_width\":3}},\"nonselection_glyph\":{\"type\":\"object\",\"name\":\"Line\",\"id\":\"p1088\",\"attributes\":{\"x\":{\"type\":\"field\",\"field\":\"x\"},\"y\":{\"type\":\"field\",\"field\":\"y\"},\"line_color\":\"#1f77b4\",\"line_alpha\":0.1,\"line_width\":3}},\"muted_glyph\":{\"type\":\"object\",\"name\":\"Line\",\"id\":\"p1089\",\"attributes\":{\"x\":{\"type\":\"field\",\"field\":\"x\"},\"y\":{\"type\":\"field\",\"field\":\"y\"},\"line_color\":\"#1f77b4\",\"line_alpha\":0.2,\"line_width\":3}}}},{\"type\":\"object\",\"name\":\"GlyphRenderer\",\"id\":\"p1099\",\"attributes\":{\"data_source\":{\"type\":\"object\",\"name\":\"ColumnDataSource\",\"id\":\"p1093\",\"attributes\":{\"selected\":{\"type\":\"object\",\"name\":\"Selection\",\"id\":\"p1094\",\"attributes\":{\"indices\":[],\"line_indices\":[]}},\"selection_policy\":{\"type\":\"object\",\"name\":\"UnionRenderers\",\"id\":\"p1095\"},\"data\":{\"type\":\"map\",\"entries\":[[\"x\",{\"type\":\"ndarray\",\"array\":{\"type\":\"bytes\",\"data\":\"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\"},\"shape\":[200],\"dtype\":\"float64\",\"order\":\"little\"}],[\"y\",{\"type\":\"ndarray\",\"array\":{\"type\":\"bytes\",\"data\":\"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\"},\"shape\":[200],\"dtype\":\"float64\",\"order\":\"little\"}]]}}},\"view\":{\"type\":\"object\",\"name\":\"CDSView\",\"id\":\"p1100\",\"attributes\":{\"filter\":{\"type\":\"object\",\"name\":\"AllIndices\",\"id\":\"p1101\"}}},\"glyph\":{\"type\":\"object\",\"name\":\"Line\",\"id\":\"p1096\",\"attributes\":{\"x\":{\"type\":\"field\",\"field\":\"x\"},\"y\":{\"type\":\"field\",\"field\":\"y\"},\"line_color\":\"orange\",\"line_width\":3}},\"nonselection_glyph\":{\"type\":\"object\",\"name\":\"Line\",\"id\":\"p1097\",\"attributes\":{\"x\":{\"type\":\"field\",\"field\":\"x\"},\"y\":{\"type\":\"field\",\"field\":\"y\"},\"line_color\":\"orange\",\"line_alpha\":0.1,\"line_width\":3}},\"muted_glyph\":{\"type\":\"object\",\"name\":\"Line\",\"id\":\"p1098\",\"attributes\":{\"x\":{\"type\":\"field\",\"field\":\"x\"},\"y\":{\"type\":\"field\",\"field\":\"y\"},\"line_color\":\"orange\",\"line_alpha\":0.2,\"line_width\":3}}}}],\"toolbar\":{\"type\":\"object\",\"name\":\"Toolbar\",\"id\":\"p1056\",\"attributes\":{\"tools\":[{\"type\":\"object\",\"name\":\"PanTool\",\"id\":\"p1071\"},{\"type\":\"object\",\"name\":\"WheelZoomTool\",\"id\":\"p1072\",\"attributes\":{\"renderers\":\"auto\"}},{\"type\":\"object\",\"name\":\"BoxZoomTool\",\"id\":\"p1073\",\"attributes\":{\"overlay\":{\"type\":\"object\",\"name\":\"BoxAnnotation\",\"id\":\"p1074\",\"attributes\":{\"syncable\":false,\"line_color\":\"black\",\"line_alpha\":1.0,\"line_width\":2,\"line_dash\":[4,4],\"fill_color\":\"lightgrey\",\"fill_alpha\":0.5,\"level\":\"overlay\",\"visible\":false,\"left\":{\"type\":\"number\",\"value\":\"nan\"},\"right\":{\"type\":\"number\",\"value\":\"nan\"},\"top\":{\"type\":\"number\",\"value\":\"nan\"},\"bottom\":{\"type\":\"number\",\"value\":\"nan\"},\"left_units\":\"canvas\",\"right_units\":\"canvas\",\"top_units\":\"canvas\",\"bottom_units\":\"canvas\",\"handles\":{\"type\":\"object\",\"name\":\"BoxInteractionHandles\",\"id\":\"p1080\",\"attributes\":{\"all\":{\"type\":\"object\",\"name\":\"AreaVisuals\",\"id\":\"p1079\",\"attributes\":{\"fill_color\":\"white\",\"hover_fill_color\":\"lightgray\"}}}}}}}},{\"type\":\"object\",\"name\":\"SaveTool\",\"id\":\"p1081\"},{\"type\":\"object\",\"name\":\"ResetTool\",\"id\":\"p1082\"},{\"type\":\"object\",\"name\":\"HelpTool\",\"id\":\"p1083\"}]}},\"left\":[{\"type\":\"object\",\"name\":\"LinearAxis\",\"id\":\"p1066\",\"attributes\":{\"ticker\":{\"type\":\"object\",\"name\":\"BasicTicker\",\"id\":\"p1067\",\"attributes\":{\"mantissas\":[1,2,5]}},\"formatter\":{\"type\":\"object\",\"name\":\"BasicTickFormatter\",\"id\":\"p1068\"},\"axis_label\":\"dimensionless flag. length\",\"major_label_policy\":{\"type\":\"object\",\"name\":\"AllLabels\",\"id\":\"p1069\"}}}],\"below\":[{\"type\":\"object\",\"name\":\"LinearAxis\",\"id\":\"p1061\",\"attributes\":{\"ticker\":{\"type\":\"object\",\"name\":\"BasicTicker\",\"id\":\"p1062\",\"attributes\":{\"mantissas\":[1,2,5]}},\"formatter\":{\"type\":\"object\",\"name\":\"BasicTickFormatter\",\"id\":\"p1063\"},\"axis_label\":\"dimensionless time\",\"major_label_policy\":{\"type\":\"object\",\"name\":\"AllLabels\",\"id\":\"p1064\"}}}],\"center\":[{\"type\":\"object\",\"name\":\"Grid\",\"id\":\"p1065\",\"attributes\":{\"axis\":{\"id\":\"p1061\"}}},{\"type\":\"object\",\"name\":\"Grid\",\"id\":\"p1070\",\"attributes\":{\"dimension\":1,\"axis\":{\"id\":\"p1066\"}}}],\"frame_width\":350,\"frame_height\":250}}]}};\n",
       "  const render_items = [{\"docid\":\"ec11dd53-52ea-4cf5-bbb4-e0104ef00d94\",\"roots\":{\"p1048\":\"c1082e0e-80bd-4a10-bd6f-8af70156b776\"},\"root_ids\":[\"p1048\"]}];\n",
       "  void root.Bokeh.embed.embed_items_notebook(docs_json, render_items);\n",
       "  }\n",
       "  if (root.Bokeh !== undefined) {\n",
       "    embed_document(root);\n",
       "  } else {\n",
       "    let attempts = 0;\n",
       "    const timer = setInterval(function(root) {\n",
       "      if (root.Bokeh !== undefined) {\n",
       "        clearInterval(timer);\n",
       "        embed_document(root);\n",
       "      } else {\n",
       "        attempts++;\n",
       "        if (attempts > 100) {\n",
       "          clearInterval(timer);\n",
       "          console.log(\"Bokeh: ERROR: Unable to run BokehJS code because BokehJS library is missing\");\n",
       "        }\n",
       "      }\n",
       "    }, 10, root)\n",
       "  }\n",
       "})(window);"
      ],
      "application/vnd.bokehjs_exec.v0+json": ""
     },
     "metadata": {
      "application/vnd.bokehjs_exec.v0+json": {
       "id": "p1048"
      }
     },
     "output_type": "display_data"
    }
   ],
   "source": [
    "# Initial condition for shrinkage\n",
    "ell0 = np.array([2])\n",
    "\n",
    "# Solve ODE\n",
    "t = np.linspace(0, 5, 200)\n",
    "ell_shrink = scipy.integrate.odeint(balance_point_rhs, ell0, t).flatten()\n",
    "\n",
    "# Plot both together\n",
    "p = bokeh.plotting.figure(\n",
    "    frame_width=350,\n",
    "    frame_height=250,\n",
    "    x_range=[0, 5],\n",
    "    y_range=[0, 2],\n",
    "    x_axis_label=\"dimensionless time\",\n",
    "    y_axis_label=\"dimensionless flag. length\",\n",
    ")\n",
    "\n",
    "# Populate glyphs\n",
    "p.line(t, ell, line_width=3)\n",
    "p.line(t, ell_shrink, line_width=3, color=\"orange\")\n",
    "bokeh.io.show(p)"
   ]
  },
  {
   "cell_type": "markdown",
   "metadata": {},
   "source": [
    "The model predicts that a flagellum will reach its steady state more rapidly by growth than by shrinkage."
   ]
  },
  {
   "cell_type": "markdown",
   "metadata": {},
   "source": [
    "### Comparing the balance point model to experiment\n",
    "\n",
    "Wallace Marshall's lab has investigated flagellar growth extensively.  In [Engel, Ludington, and Marshall, *J. Cell Biol.*, **187**, 81-89, 2009](https://doi.org/10.1083/jcb.200812084), they measured the growth of a flagellum after a pH shock (which eliminates the flagella).  They did the repeatedly (2026 times) and averaged the length of the flagella as a function of time after pH shock.  I digitized mean data from their paper."
   ]
  },
  {
   "cell_type": "code",
   "execution_count": 8,
   "metadata": {},
   "outputs": [
    {
     "data": {
      "text/html": [
       "\n",
       "  <div id=\"e8a8303e-6685-49c3-a754-7a7dad5a0ba8\" data-root-id=\"p1106\" style=\"display: contents;\"></div>\n"
      ]
     },
     "metadata": {},
     "output_type": "display_data"
    },
    {
     "data": {
      "application/javascript": [
       "(function(root) {\n",
       "  function embed_document(root) {\n",
       "  const docs_json = {\"324c1f36-0048-44c7-9ad7-c009229b2a00\":{\"version\":\"3.6.0\",\"title\":\"Bokeh Application\",\"roots\":[{\"type\":\"object\",\"name\":\"Figure\",\"id\":\"p1106\",\"attributes\":{\"x_range\":{\"type\":\"object\",\"name\":\"DataRange1d\",\"id\":\"p1107\"},\"y_range\":{\"type\":\"object\",\"name\":\"DataRange1d\",\"id\":\"p1108\"},\"x_scale\":{\"type\":\"object\",\"name\":\"LinearScale\",\"id\":\"p1115\"},\"y_scale\":{\"type\":\"object\",\"name\":\"LinearScale\",\"id\":\"p1116\"},\"title\":{\"type\":\"object\",\"name\":\"Title\",\"id\":\"p1113\"},\"renderers\":[{\"type\":\"object\",\"name\":\"GlyphRenderer\",\"id\":\"p1146\",\"attributes\":{\"data_source\":{\"type\":\"object\",\"name\":\"ColumnDataSource\",\"id\":\"p1140\",\"attributes\":{\"selected\":{\"type\":\"object\",\"name\":\"Selection\",\"id\":\"p1141\",\"attributes\":{\"indices\":[],\"line_indices\":[]}},\"selection_policy\":{\"type\":\"object\",\"name\":\"UnionRenderers\",\"id\":\"p1142\"},\"data\":{\"type\":\"map\",\"entries\":[[\"x\",{\"type\":\"ndarray\",\"array\":{\"type\":\"bytes\",\"data\":\"zpvU4TLgA0Cv+7dg49EcQMLCSZo/2ChA00wYSZIkMUDGc40Bnxw2QLqaArqrFDtASvkgNh7NP0AfEEt3lWJCQAoqcNOb3kRAUVl/EdU6R0C+LiaqdfZJQDjCYAZ8ckxAsVWbYoLuTkC1hUrQXaVQQFI+iI1H81FALxmFLGQhU0DsYqJaZ19UQKmsv4hqnVVAhYe8J4fLVkD/GveDjUdZQHmuMeCTw1tA+SA2Hs0fXkC2alNM0F1gQAN94DLgk2FAs+1yGfDJYkB9EBuP5g9kQA==\"},\"shape\":[26],\"dtype\":\"float64\",\"order\":\"little\"}],[\"y\",{\"type\":\"ndarray\",\"array\":{\"type\":\"bytes\",\"data\":\"m3JDW+dCwD+bckNb50LAP5tyQ1vnQsA/VNahYOdCAEBnpYPUcX0OQNSLsX75QRZAANNYsa44GkD+dgIvbWMeQKywU4sMEyFAEHOL8UhlIkB4RjqHW80iQAwHQrKAnSNAEKAyQJosJECocbGalRIkQNpSzc2zuyRAdxgPxrriJEB2vTy2yDAlQHa9PLbIMCVA1kFWnt2lJUDcNRk86eYlQAgjctH7TiZAB8ifwQmdJkAGbc2xF+smQKSN4bkQxCZAOam79CdGJ0A6BI4EGvgmQA==\"},\"shape\":[26],\"dtype\":\"float64\",\"order\":\"little\"}]]}}},\"view\":{\"type\":\"object\",\"name\":\"CDSView\",\"id\":\"p1147\",\"attributes\":{\"filter\":{\"type\":\"object\",\"name\":\"AllIndices\",\"id\":\"p1148\"}}},\"glyph\":{\"type\":\"object\",\"name\":\"Scatter\",\"id\":\"p1143\",\"attributes\":{\"x\":{\"type\":\"field\",\"field\":\"x\"},\"y\":{\"type\":\"field\",\"field\":\"y\"},\"line_color\":{\"type\":\"value\",\"value\":\"#1f77b4\"},\"fill_color\":{\"type\":\"value\",\"value\":\"#1f77b4\"}}},\"nonselection_glyph\":{\"type\":\"object\",\"name\":\"Scatter\",\"id\":\"p1144\",\"attributes\":{\"x\":{\"type\":\"field\",\"field\":\"x\"},\"y\":{\"type\":\"field\",\"field\":\"y\"},\"line_color\":{\"type\":\"value\",\"value\":\"#1f77b4\"},\"line_alpha\":{\"type\":\"value\",\"value\":0.1},\"fill_color\":{\"type\":\"value\",\"value\":\"#1f77b4\"},\"fill_alpha\":{\"type\":\"value\",\"value\":0.1},\"hatch_alpha\":{\"type\":\"value\",\"value\":0.1}}},\"muted_glyph\":{\"type\":\"object\",\"name\":\"Scatter\",\"id\":\"p1145\",\"attributes\":{\"x\":{\"type\":\"field\",\"field\":\"x\"},\"y\":{\"type\":\"field\",\"field\":\"y\"},\"line_color\":{\"type\":\"value\",\"value\":\"#1f77b4\"},\"line_alpha\":{\"type\":\"value\",\"value\":0.2},\"fill_color\":{\"type\":\"value\",\"value\":\"#1f77b4\"},\"fill_alpha\":{\"type\":\"value\",\"value\":0.2},\"hatch_alpha\":{\"type\":\"value\",\"value\":0.2}}}}}],\"toolbar\":{\"type\":\"object\",\"name\":\"Toolbar\",\"id\":\"p1114\",\"attributes\":{\"tools\":[{\"type\":\"object\",\"name\":\"PanTool\",\"id\":\"p1127\"},{\"type\":\"object\",\"name\":\"WheelZoomTool\",\"id\":\"p1128\",\"attributes\":{\"renderers\":\"auto\"}},{\"type\":\"object\",\"name\":\"BoxZoomTool\",\"id\":\"p1129\",\"attributes\":{\"overlay\":{\"type\":\"object\",\"name\":\"BoxAnnotation\",\"id\":\"p1130\",\"attributes\":{\"syncable\":false,\"line_color\":\"black\",\"line_alpha\":1.0,\"line_width\":2,\"line_dash\":[4,4],\"fill_color\":\"lightgrey\",\"fill_alpha\":0.5,\"level\":\"overlay\",\"visible\":false,\"left\":{\"type\":\"number\",\"value\":\"nan\"},\"right\":{\"type\":\"number\",\"value\":\"nan\"},\"top\":{\"type\":\"number\",\"value\":\"nan\"},\"bottom\":{\"type\":\"number\",\"value\":\"nan\"},\"left_units\":\"canvas\",\"right_units\":\"canvas\",\"top_units\":\"canvas\",\"bottom_units\":\"canvas\",\"handles\":{\"type\":\"object\",\"name\":\"BoxInteractionHandles\",\"id\":\"p1136\",\"attributes\":{\"all\":{\"type\":\"object\",\"name\":\"AreaVisuals\",\"id\":\"p1135\",\"attributes\":{\"fill_color\":\"white\",\"hover_fill_color\":\"lightgray\"}}}}}}}},{\"type\":\"object\",\"name\":\"SaveTool\",\"id\":\"p1137\"},{\"type\":\"object\",\"name\":\"ResetTool\",\"id\":\"p1138\"},{\"type\":\"object\",\"name\":\"HelpTool\",\"id\":\"p1139\"}]}},\"left\":[{\"type\":\"object\",\"name\":\"LinearAxis\",\"id\":\"p1122\",\"attributes\":{\"ticker\":{\"type\":\"object\",\"name\":\"BasicTicker\",\"id\":\"p1123\",\"attributes\":{\"mantissas\":[1,2,5]}},\"formatter\":{\"type\":\"object\",\"name\":\"BasicTickFormatter\",\"id\":\"p1124\"},\"axis_label\":\"flag. length (\\u00b5m)\",\"major_label_policy\":{\"type\":\"object\",\"name\":\"AllLabels\",\"id\":\"p1125\"}}}],\"below\":[{\"type\":\"object\",\"name\":\"LinearAxis\",\"id\":\"p1117\",\"attributes\":{\"ticker\":{\"type\":\"object\",\"name\":\"BasicTicker\",\"id\":\"p1118\",\"attributes\":{\"mantissas\":[1,2,5]}},\"formatter\":{\"type\":\"object\",\"name\":\"BasicTickFormatter\",\"id\":\"p1119\"},\"axis_label\":\"time (min)\",\"major_label_policy\":{\"type\":\"object\",\"name\":\"AllLabels\",\"id\":\"p1120\"}}}],\"center\":[{\"type\":\"object\",\"name\":\"Grid\",\"id\":\"p1121\",\"attributes\":{\"axis\":{\"id\":\"p1117\"}}},{\"type\":\"object\",\"name\":\"Grid\",\"id\":\"p1126\",\"attributes\":{\"dimension\":1,\"axis\":{\"id\":\"p1122\"}}}],\"frame_width\":350,\"frame_height\":250}}]}};\n",
       "  const render_items = [{\"docid\":\"324c1f36-0048-44c7-9ad7-c009229b2a00\",\"roots\":{\"p1106\":\"e8a8303e-6685-49c3-a754-7a7dad5a0ba8\"},\"root_ids\":[\"p1106\"]}];\n",
       "  void root.Bokeh.embed.embed_items_notebook(docs_json, render_items);\n",
       "  }\n",
       "  if (root.Bokeh !== undefined) {\n",
       "    embed_document(root);\n",
       "  } else {\n",
       "    let attempts = 0;\n",
       "    const timer = setInterval(function(root) {\n",
       "      if (root.Bokeh !== undefined) {\n",
       "        clearInterval(timer);\n",
       "        embed_document(root);\n",
       "      } else {\n",
       "        attempts++;\n",
       "        if (attempts > 100) {\n",
       "          clearInterval(timer);\n",
       "          console.log(\"Bokeh: ERROR: Unable to run BokehJS code because BokehJS library is missing\");\n",
       "        }\n",
       "      }\n",
       "    }, 10, root)\n",
       "  }\n",
       "})(window);"
      ],
      "application/vnd.bokehjs_exec.v0+json": ""
     },
     "metadata": {
      "application/vnd.bokehjs_exec.v0+json": {
       "id": "p1106"
      }
     },
     "output_type": "display_data"
    }
   ],
   "source": [
    "t_exp = np.array(\n",
    "    [   2.48447205,    7.20496894,   12.42236025,   17.14285714,\n",
    "       22.11180124,   27.08074534,   31.80124224,   36.77018634,\n",
    "       41.73913043,   46.45962733,   51.92546584,   56.89440994,\n",
    "       61.86335404,   66.58385093,   71.80124224,   76.52173913,\n",
    "       81.49068323,   86.45962733,   91.18012422,  101.11801242,\n",
    "      111.05590062,  120.49689441,  130.93167702,  140.62111801,\n",
    "      150.31055901,  160.49689441]\n",
    ")\n",
    "\n",
    "flag_len_exp = np.array(\n",
    "    [  0.12704174,   0.12704174,   0.12704174,   2.03266788,\n",
    "       3.81125227,   5.56442831,   6.5553539 ,   7.59709619,\n",
    "       8.53720508,   9.19782214,   9.40108893,   9.8076225 ,\n",
    "      10.08711434,  10.03629764,  10.36660617,  10.44283122,\n",
    "      10.59528131,  10.59528131,  10.82395644,  10.95099819,\n",
    "      11.15426497,  11.30671506,  11.45916515,  11.38294011,\n",
    "      11.63702359,  11.4845735]\n",
    ")\n",
    "\n",
    "# Make plot of data and curve fit\n",
    "p = bokeh.plotting.figure(\n",
    "    frame_width=350,\n",
    "    frame_height=250,\n",
    "    x_axis_label=\"time (min)\",\n",
    "    y_axis_label=\"flag. length (µm)\",\n",
    ")\n",
    "\n",
    "p.scatter(t_exp, flag_len_exp)\n",
    "\n",
    "bokeh.io.show(p)"
   ]
  },
  {
   "cell_type": "markdown",
   "metadata": {},
   "source": [
    "There is a lag after the pH shock, presumably for the cell to recover, and then growth begins.  We will fit these data with the balance point model.  We will take time zero to be the fourth data point, the first where we see a significant flagellum.  The fit parameters are $\\alpha$, $\\beta$, and also $\\ell_0$, the initial length of the flagellum when the growth kicks in (since we do not know this exactly).  To perform the curve fit, we need to first write a function that will return the theoretical flagellar length as a function of time for the given parameters."
   ]
  },
  {
   "cell_type": "code",
   "execution_count": 9,
   "metadata": {},
   "outputs": [],
   "source": [
    "def flag_len_theor(t, alpha, beta, ell0):\n",
    "    \"\"\"\n",
    "    Compute theoretical flagellar length given parameters\n",
    "    \"\"\"\n",
    "    # Dimensionless ell0\n",
    "    ell0_dimless = ell0 * alpha / beta\n",
    "    \n",
    "    # Dimenesionless time\n",
    "    t_dimless = t * alpha**2 / beta\n",
    "    \n",
    "    # Solve dimensionless equations\n",
    "    ell = scipy.integrate.odeint(balance_point_rhs, ell0_dimless, t_dimless)\n",
    "    \n",
    "    # Return with dimensional units\n",
    "    return ell.flatten() * beta / alpha"
   ]
  },
  {
   "cell_type": "markdown",
   "metadata": {},
   "source": [
    "Now that we have this function, we just provide an initial guess for the parameter values and use `scipy.optimize.curve_fit()` to get the optimal parameters.  We will guess, based on eyeballing the curve, that $\\alpha = 0.5$ µm/s, $\\beta = 4.5$ µm$^2$/s, and $\\ell_0 = 2$ µm."
   ]
  },
  {
   "cell_type": "code",
   "execution_count": 10,
   "metadata": {},
   "outputs": [
    {
     "name": "stdout",
     "output_type": "stream",
     "text": [
      "\n",
      "Best fit parameter values\n",
      "  α: 0.23 µm/min\n",
      "  β: 2.74 µm²/min\n",
      "l_0: 1.74 µm\n",
      "\n"
     ]
    }
   ],
   "source": [
    "# Perform the curve fit with initial guess p0\n",
    "p0 = (0.5, 4.5, 2)\n",
    "popt, _ = scipy.optimize.curve_fit(\n",
    "    flag_len_theor, t_exp[3:] - t_exp[3], flag_len_exp[3:], p0=p0\n",
    ")\n",
    "\n",
    "# Print best-fit parameter values\n",
    "print(\n",
    "    \"\"\"\n",
    "Best fit parameter values\n",
    "  α: {0:.2f} µm/min\n",
    "  β: {1:.2f} µm²/min\n",
    "l_0: {2:.2f} µm\n",
    "\"\"\".format(\n",
    "        *popt\n",
    "    )\n",
    ")"
   ]
  },
  {
   "cell_type": "markdown",
   "metadata": {},
   "source": [
    "We can qualitatively look at how well the model fits the data by plotting."
   ]
  },
  {
   "cell_type": "code",
   "execution_count": 11,
   "metadata": {},
   "outputs": [
    {
     "data": {
      "text/html": [
       "\n",
       "  <div id=\"f392b6c4-644d-4bff-b6c3-66f7179095e3\" data-root-id=\"p1106\" style=\"display: contents;\"></div>\n"
      ]
     },
     "metadata": {},
     "output_type": "display_data"
    },
    {
     "data": {
      "application/javascript": [
       "(function(root) {\n",
       "  function embed_document(root) {\n",
       "  const docs_json = {\"11a4bbb9-3e3c-4ac0-842d-bd00170a420f\":{\"version\":\"3.6.0\",\"title\":\"Bokeh Application\",\"roots\":[{\"type\":\"object\",\"name\":\"Figure\",\"id\":\"p1106\",\"attributes\":{\"x_range\":{\"type\":\"object\",\"name\":\"DataRange1d\",\"id\":\"p1107\"},\"y_range\":{\"type\":\"object\",\"name\":\"DataRange1d\",\"id\":\"p1108\"},\"x_scale\":{\"type\":\"object\",\"name\":\"LinearScale\",\"id\":\"p1115\"},\"y_scale\":{\"type\":\"object\",\"name\":\"LinearScale\",\"id\":\"p1116\"},\"title\":{\"type\":\"object\",\"name\":\"Title\",\"id\":\"p1113\"},\"renderers\":[{\"type\":\"object\",\"name\":\"GlyphRenderer\",\"id\":\"p1146\",\"attributes\":{\"data_source\":{\"type\":\"object\",\"name\":\"ColumnDataSource\",\"id\":\"p1140\",\"attributes\":{\"selected\":{\"type\":\"object\",\"name\":\"Selection\",\"id\":\"p1141\",\"attributes\":{\"indices\":[],\"line_indices\":[]}},\"selection_policy\":{\"type\":\"object\",\"name\":\"UnionRenderers\",\"id\":\"p1142\"},\"data\":{\"type\":\"map\",\"entries\":[[\"x\",{\"type\":\"ndarray\",\"array\":{\"type\":\"bytes\",\"data\":\"zpvU4TLgA0Cv+7dg49EcQMLCSZo/2ChA00wYSZIkMUDGc40Bnxw2QLqaArqrFDtASvkgNh7NP0AfEEt3lWJCQAoqcNOb3kRAUVl/EdU6R0C+LiaqdfZJQDjCYAZ8ckxAsVWbYoLuTkC1hUrQXaVQQFI+iI1H81FALxmFLGQhU0DsYqJaZ19UQKmsv4hqnVVAhYe8J4fLVkD/GveDjUdZQHmuMeCTw1tA+SA2Hs0fXkC2alNM0F1gQAN94DLgk2FAs+1yGfDJYkB9EBuP5g9kQA==\"},\"shape\":[26],\"dtype\":\"float64\",\"order\":\"little\"}],[\"y\",{\"type\":\"ndarray\",\"array\":{\"type\":\"bytes\",\"data\":\"m3JDW+dCwD+bckNb50LAP5tyQ1vnQsA/VNahYOdCAEBnpYPUcX0OQNSLsX75QRZAANNYsa44GkD+dgIvbWMeQKywU4sMEyFAEHOL8UhlIkB4RjqHW80iQAwHQrKAnSNAEKAyQJosJECocbGalRIkQNpSzc2zuyRAdxgPxrriJEB2vTy2yDAlQHa9PLbIMCVA1kFWnt2lJUDcNRk86eYlQAgjctH7TiZAB8ifwQmdJkAGbc2xF+smQKSN4bkQxCZAOam79CdGJ0A6BI4EGvgmQA==\"},\"shape\":[26],\"dtype\":\"float64\",\"order\":\"little\"}]]}}},\"view\":{\"type\":\"object\",\"name\":\"CDSView\",\"id\":\"p1147\",\"attributes\":{\"filter\":{\"type\":\"object\",\"name\":\"AllIndices\",\"id\":\"p1148\"}}},\"glyph\":{\"type\":\"object\",\"name\":\"Scatter\",\"id\":\"p1143\",\"attributes\":{\"x\":{\"type\":\"field\",\"field\":\"x\"},\"y\":{\"type\":\"field\",\"field\":\"y\"},\"line_color\":{\"type\":\"value\",\"value\":\"#1f77b4\"},\"fill_color\":{\"type\":\"value\",\"value\":\"#1f77b4\"}}},\"nonselection_glyph\":{\"type\":\"object\",\"name\":\"Scatter\",\"id\":\"p1144\",\"attributes\":{\"x\":{\"type\":\"field\",\"field\":\"x\"},\"y\":{\"type\":\"field\",\"field\":\"y\"},\"line_color\":{\"type\":\"value\",\"value\":\"#1f77b4\"},\"line_alpha\":{\"type\":\"value\",\"value\":0.1},\"fill_color\":{\"type\":\"value\",\"value\":\"#1f77b4\"},\"fill_alpha\":{\"type\":\"value\",\"value\":0.1},\"hatch_alpha\":{\"type\":\"value\",\"value\":0.1}}},\"muted_glyph\":{\"type\":\"object\",\"name\":\"Scatter\",\"id\":\"p1145\",\"attributes\":{\"x\":{\"type\":\"field\",\"field\":\"x\"},\"y\":{\"type\":\"field\",\"field\":\"y\"},\"line_color\":{\"type\":\"value\",\"value\":\"#1f77b4\"},\"line_alpha\":{\"type\":\"value\",\"value\":0.2},\"fill_color\":{\"type\":\"value\",\"value\":\"#1f77b4\"},\"fill_alpha\":{\"type\":\"value\",\"value\":0.2},\"hatch_alpha\":{\"type\":\"value\",\"value\":0.2}}}}},{\"type\":\"object\",\"name\":\"GlyphRenderer\",\"id\":\"p1157\",\"attributes\":{\"data_source\":{\"type\":\"object\",\"name\":\"ColumnDataSource\",\"id\":\"p1151\",\"attributes\":{\"selected\":{\"type\":\"object\",\"name\":\"Selection\",\"id\":\"p1152\",\"attributes\":{\"indices\":[],\"line_indices\":[]}},\"selection_policy\":{\"type\":\"object\",\"name\":\"UnionRenderers\",\"id\":\"p1153\"},\"data\":{\"type\":\"map\",\"entries\":[[\"x\",{\"type\":\"ndarray\",\"array\":{\"type\":\"bytes\",\"data\":\"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\"},\"shape\":[200],\"dtype\":\"float64\",\"order\":\"little\"}],[\"y\",{\"type\":\"ndarray\",\"array\":{\"type\":\"bytes\",\"data\":\"3Xxedffo+z/yQJsEyZwEQPGt7r2IRglAy8+RZoT+DECGZnK26RAQQBcOZLn1bhFA9ep99ISmEkAj4L4I+r8TQE5QN1sTwRRAwVgbE/StFUBER2wFtYkWQA2JYdC5VhdAfAbS9uUWGEBlrfyOv8sYQD3i9p+GdhlAvPcDkkUYGkC/0eTy3LEaQDUoWR4MRBtA16Q7r3fPG0Dum291rlQcQDfL3Ect1BxAqbaxCGJOHUAE9bEHrsMdQHqVAOpnNB5ATp9jPN2gHkD/ELK5UwkfQB3kXVkKbh9Az2zQLzrPH0DwsTCZixYgQIYVEGPoQyBA6lOsK8lvIEDtTPDjQZogQHGN2ulkwyBAYOvBMkPrIEDaH7hw7BEhQIuwEzNvNyFAE5MaA9lbIUDkTxh9Nn8hQPjfpWOToSFAHAo4uPrCIUBh00/HduMhQJ35jDsRAyJABZ/wKNMhIkAjF1saxT8iQCokMBzvXCJAKFjtxVh5IkDgJdxDCZUiQIJHDF4HsCJAxIbkgFnKIkBw83TCBeQiQDZCwekR/SJAL7o7c4MVI0BrEfSWXy0jQCUJbUurRCNASdozSmtbI0DO/4MWpHEjQGIvX/1ZhyNAFhrBGZGcI0DFiFpZTbEjQCzUCX2SxSNA9Uk9HGTZI0AQCnWoxewjQJTNxm26/yNAuQeglUUSJEC6RFIpaiQkQPi8thIrNiRAWodmHotHJEBMcJ39jFgkQGvs5UYzaSRAFIHnd4B5JEDnhNL2dokkQNcyCRMZmSRAvx3BBmmoJEAJ/e/3aLckQH47tvgaxiRA0s1OCIHUJECaZs0UneIkQNstI/xw8CRABf96i/79JED9G2WARwslQOrn/4lNGCVAv/zxSRIlJUDjQPJTlzElQFhrrC7ePSVA/bWWVOhJJUBp7dY0t1UlQOv53zJMYSVAItknp6hsJUDxwcHfzXclQD03HyG9giVA+3HRpXeNJUDJLhSf/pclQNfvQDVToiVAJgBuiHasJUB440mwabYlQAF9hbwtwCVAM5QttcPJJUD2yy6bLNMlQDWVQGhp3CVAXOI3D3vlJUCdM1V8Yu4lQJb3wJUg9yVAbz1TO7b/JUBXIuBGJAgmQGQcaIxrECZA6fs92owYJkBibcX5iCAmQL2geq9gKCZApOJ/uhQwJkBrxBTVpTcmQDsCt7QUPyZAehhSCmJGJkAdyOSCjk0mQEBuAMeaVCZAKX3+eodbJkB4uC8/VWImQCvU9a8EaSZAu38RZpZvJkA1zd/2CnYmQMHVAfRifCZAbium656CJkDm4J9ov4gmQDERf/LEjiZATLjsDbCUJkBbPX48gZomQBdgwvw4oCZAYqhkytelJkAEVD8eXqsmQGCofW7MsCZAO9bQLiO2JkBjVkDQYrsmQF9EUcGLwCZA/80Xbp7FJkDrL0ZAm8omQP3mXJ+CzyZAKlql8FTUJkCNtS6XEtkmQELB5/O73SZAm4irZVHiJkCDcFZJ0+YmQNgV9vlB6yZAocWX0J3vJkD7YWUk5/MmQIPcs0oe+CZANLUMl0P8JkDdyjZbVwAnQEF9PudZBCdA30PCiUsIJ0AsD/aPLAwnQK2VRUX9DydAxM6U870TJ0D6HEjjbhcnQI3fS1sQGydA6IUboaIeJ0Bjdc34JSInQEMTXqWaJSdApCZk6AApJ0D/ahwCWSwnQDT2fzGjLydAuJJKtN8yJ0BLuwDHDjYnQDg49aQwOSdAO81hiEU8J0DAw4uqTT8nQOGPgENJQidAasU4ijhFJ0CNn5+0G0gnQIYjmPfySidAx/wBh75NJ0DWar6VflAnQH+J1VUzUydAn2pj+NxVJ0AXtoqte1gnQHIMiKQPWydAm2+2C5ldJ0BRdpMQGGAnQFtKw9+MYidA1NsYpfdkJ0A9gLGLWGcnQJqK1L2vaSdAxSsAZf1rJ0CbmfCpQW4nQGSlo7R8cCdAzihcrK5yJ0CRSaW313QnQIAHYfz3didAn7XOnw95J0C0dXfGHnsnQGDLPJQlfSdAitNbLCR/J0CLO3CxGoEnQDwYd0UJgydAnc7SCfCEJ0BaZGMfz4YnQF7dbaamiCdA7deevnaKJ0CYnBOHP4wnQP5+XB4BjidAhiF/oruPJ0AtnPgwb5EnQA==\"},\"shape\":[200],\"dtype\":\"float64\",\"order\":\"little\"}]]}}},\"view\":{\"type\":\"object\",\"name\":\"CDSView\",\"id\":\"p1158\",\"attributes\":{\"filter\":{\"type\":\"object\",\"name\":\"AllIndices\",\"id\":\"p1159\"}}},\"glyph\":{\"type\":\"object\",\"name\":\"Line\",\"id\":\"p1154\",\"attributes\":{\"x\":{\"type\":\"field\",\"field\":\"x\"},\"y\":{\"type\":\"field\",\"field\":\"y\"},\"line_color\":\"dimgray\",\"line_width\":3}},\"nonselection_glyph\":{\"type\":\"object\",\"name\":\"Line\",\"id\":\"p1155\",\"attributes\":{\"x\":{\"type\":\"field\",\"field\":\"x\"},\"y\":{\"type\":\"field\",\"field\":\"y\"},\"line_color\":\"dimgray\",\"line_alpha\":0.1,\"line_width\":3}},\"muted_glyph\":{\"type\":\"object\",\"name\":\"Line\",\"id\":\"p1156\",\"attributes\":{\"x\":{\"type\":\"field\",\"field\":\"x\"},\"y\":{\"type\":\"field\",\"field\":\"y\"},\"line_color\":\"dimgray\",\"line_alpha\":0.2,\"line_width\":3}}}}],\"toolbar\":{\"type\":\"object\",\"name\":\"Toolbar\",\"id\":\"p1114\",\"attributes\":{\"tools\":[{\"type\":\"object\",\"name\":\"PanTool\",\"id\":\"p1127\"},{\"type\":\"object\",\"name\":\"WheelZoomTool\",\"id\":\"p1128\",\"attributes\":{\"renderers\":\"auto\"}},{\"type\":\"object\",\"name\":\"BoxZoomTool\",\"id\":\"p1129\",\"attributes\":{\"overlay\":{\"type\":\"object\",\"name\":\"BoxAnnotation\",\"id\":\"p1130\",\"attributes\":{\"syncable\":false,\"line_color\":\"black\",\"line_alpha\":1.0,\"line_width\":2,\"line_dash\":[4,4],\"fill_color\":\"lightgrey\",\"fill_alpha\":0.5,\"level\":\"overlay\",\"visible\":false,\"left\":{\"type\":\"number\",\"value\":\"nan\"},\"right\":{\"type\":\"number\",\"value\":\"nan\"},\"top\":{\"type\":\"number\",\"value\":\"nan\"},\"bottom\":{\"type\":\"number\",\"value\":\"nan\"},\"left_units\":\"canvas\",\"right_units\":\"canvas\",\"top_units\":\"canvas\",\"bottom_units\":\"canvas\",\"handles\":{\"type\":\"object\",\"name\":\"BoxInteractionHandles\",\"id\":\"p1136\",\"attributes\":{\"all\":{\"type\":\"object\",\"name\":\"AreaVisuals\",\"id\":\"p1135\",\"attributes\":{\"fill_color\":\"white\",\"hover_fill_color\":\"lightgray\"}}}}}}}},{\"type\":\"object\",\"name\":\"SaveTool\",\"id\":\"p1137\"},{\"type\":\"object\",\"name\":\"ResetTool\",\"id\":\"p1138\"},{\"type\":\"object\",\"name\":\"HelpTool\",\"id\":\"p1139\"}]}},\"left\":[{\"type\":\"object\",\"name\":\"LinearAxis\",\"id\":\"p1122\",\"attributes\":{\"ticker\":{\"type\":\"object\",\"name\":\"BasicTicker\",\"id\":\"p1123\",\"attributes\":{\"mantissas\":[1,2,5]}},\"formatter\":{\"type\":\"object\",\"name\":\"BasicTickFormatter\",\"id\":\"p1124\"},\"axis_label\":\"flag. length (\\u00b5m)\",\"major_label_policy\":{\"type\":\"object\",\"name\":\"AllLabels\",\"id\":\"p1125\"}}}],\"below\":[{\"type\":\"object\",\"name\":\"LinearAxis\",\"id\":\"p1117\",\"attributes\":{\"ticker\":{\"type\":\"object\",\"name\":\"BasicTicker\",\"id\":\"p1118\",\"attributes\":{\"mantissas\":[1,2,5]}},\"formatter\":{\"type\":\"object\",\"name\":\"BasicTickFormatter\",\"id\":\"p1119\"},\"axis_label\":\"time (min)\",\"major_label_policy\":{\"type\":\"object\",\"name\":\"AllLabels\",\"id\":\"p1120\"}}}],\"center\":[{\"type\":\"object\",\"name\":\"Grid\",\"id\":\"p1121\",\"attributes\":{\"axis\":{\"id\":\"p1117\"}}},{\"type\":\"object\",\"name\":\"Grid\",\"id\":\"p1126\",\"attributes\":{\"dimension\":1,\"axis\":{\"id\":\"p1122\"}}}],\"frame_width\":350,\"frame_height\":250}}]}};\n",
       "  const render_items = [{\"docid\":\"11a4bbb9-3e3c-4ac0-842d-bd00170a420f\",\"roots\":{\"p1106\":\"f392b6c4-644d-4bff-b6c3-66f7179095e3\"},\"root_ids\":[\"p1106\"]}];\n",
       "  void root.Bokeh.embed.embed_items_notebook(docs_json, render_items);\n",
       "  }\n",
       "  if (root.Bokeh !== undefined) {\n",
       "    embed_document(root);\n",
       "  } else {\n",
       "    let attempts = 0;\n",
       "    const timer = setInterval(function(root) {\n",
       "      if (root.Bokeh !== undefined) {\n",
       "        clearInterval(timer);\n",
       "        embed_document(root);\n",
       "      } else {\n",
       "        attempts++;\n",
       "        if (attempts > 100) {\n",
       "          clearInterval(timer);\n",
       "          console.log(\"Bokeh: ERROR: Unable to run BokehJS code because BokehJS library is missing\");\n",
       "        }\n",
       "      }\n",
       "    }, 10, root)\n",
       "  }\n",
       "})(window);"
      ],
      "application/vnd.bokehjs_exec.v0+json": ""
     },
     "metadata": {
      "application/vnd.bokehjs_exec.v0+json": {
       "id": "p1106"
      }
     },
     "output_type": "display_data"
    }
   ],
   "source": [
    "# Compute theoretical curve\n",
    "t = np.linspace(0, 160, 200)\n",
    "flag_len_model = flag_len_theor(t, *popt)\n",
    "\n",
    "# Add curve fit to the plot\n",
    "p.line(t + t_exp[3], flag_len_model, line_width=3, color=\"dimgray\")\n",
    "bokeh.io.show(p)"
   ]
  },
  {
   "cell_type": "markdown",
   "metadata": {},
   "source": [
    "By eye, this is convincing support for the balance point model. However, as described in the lecture notes, this model does not capture the interdependencies of the growth of the two flagella."
   ]
  },
  {
   "cell_type": "markdown",
   "metadata": {},
   "source": [
    "### Caveat (a major caveat)\n",
    "\n",
    "The procedure we have just done amounts to a **maximumum likelihood estimate** of the parameters of the theoretical model based on the data. Implicit in this estimate is the generative statistical model. It assumed that every data point is Normally distributed about the theoretical curve, and further that these Normal distributions are independent and have the same variance. There is a whole world of hurt you could be opening yourself up to in taking this naive approach. I encourage you to take my [course on data analysis](http://bebi103a.github.io/) to learn more about better ways to perform this kind of analysis."
   ]
  },
  {
   "cell_type": "markdown",
   "metadata": {},
   "source": [
    "## The adjusted balance point model\n",
    "\n",
    "The adjusted balance point model takes into account cytoplasmic concentrations of precursor for flagellum building.  The dynamical equations are\n",
    "\n",
    "\\begin{align}\n",
    "\\frac{\\mathrm{d}\\ell_1}{\\mathrm{d}t} &= \\beta\\, \\frac{n(t-\\ell_1/v_a)}{\\ell_1} - \\alpha,\\\\[1em]\n",
    "\\frac{\\mathrm{d}\\ell_2}{\\mathrm{d}t} &= \\beta \\, \\frac{n(t-\\ell_2/v_a)}{\\ell_2} - \\alpha,\\\\[1em]\n",
    "\\frac{\\mathrm{d}n}{\\mathrm{d}t} &= -\\beta n\\left(\\frac{1}{\\ell_1} + \\frac{1}{\\ell_2}\\right) + 2\\alpha.\n",
    "\\end{align}\n",
    "\n",
    "Here, $v_a$ is the speed of anterograde motion of IFT trains and $n$ is the number of precursor units available in the nearby cytoplasm.  We nondimensionalize using the definitions\n",
    "\n",
    "\\begin{align}\n",
    "\\gamma &= \\frac{\\beta}{\\alpha}, \\;\\;\n",
    "u = \\frac{v_a}{\\alpha}, \\;\\;\n",
    "\\ell_1 = \\gamma n_\\mathrm{tot}\\,\\tilde{\\ell_1}, \\\\[1em]\n",
    "\\ell_2 &= \\gamma n_\\mathrm{tot}\\,\\tilde{\\ell_2},\\;\\;\n",
    "t = \\frac{\\beta n_\\mathrm{tot}}{\\alpha^2}\\,\\tilde{t},\\;\\;\n",
    "n = n_\\mathrm{tot}\\tilde{n},\n",
    "\\end{align}\n",
    "\n",
    "giving dimensionless dynamical equations\n",
    "\n",
    "\\begin{align}\n",
    "\\frac{\\mathrm{d}\\ell_1}{\\mathrm{d}t} &= \\frac{n(t-\\ell_1/u)}{\\ell_1} - 1,\\\\[1em]\n",
    "\\frac{\\mathrm{d}\\ell_2}{\\mathrm{d}t} &= \\frac{n(t-\\ell_2/u)}{\\ell_2} - 1,\\\\[1em]\n",
    "\\gamma^{-1}\\,\\frac{\\mathrm{d}n}{\\mathrm{d}t} &= - n(t)\\left(\\frac{1}{\\ell_1} + \\frac{1}{\\ell_2}\\right) + 2,\n",
    "\\end{align}\n",
    "\n",
    "where we have dropped the tildes for notational convenience.  This is the set of delay differential equations we have to solve.  We will solve them using Euler stepping.  We first write a function for the time derivatives of $\\ell_1$, $\\ell_2$, and $n$."
   ]
  },
  {
   "cell_type": "code",
   "execution_count": 12,
   "metadata": {},
   "outputs": [],
   "source": [
    "def dx_dt(x, n_1, n_2, gamma, u):\n",
    "    \"\"\"\n",
    "    Right hand side of DDE for shared pool balance point model.\n",
    "\n",
    "    x = ell_1, ell_2, n\n",
    "    n_1 = n(t - ell_1/u)\n",
    "    n_2 = n(t - ell_2/u)\n",
    "    \"\"\"\n",
    "    return np.array(\n",
    "        [\n",
    "            n_1 / x[0] - 1, \n",
    "            n_2 / x[1] - 1, \n",
    "            gamma * (2 - x[2] * (1 / x[0] + 1 / x[1]))\n",
    "        ]\n",
    "    )"
   ]
  },
  {
   "cell_type": "markdown",
   "metadata": {},
   "source": [
    "Next, we write a function to solve the adjusted balance point DDE using Euler stepping.  We have to specify some points in the \"past\" because of the delay/."
   ]
  },
  {
   "cell_type": "code",
   "execution_count": 13,
   "metadata": {},
   "outputs": [],
   "source": [
    "def solve_balance_point_dde(x0, gamma, u, dt=0.001, t_stop=5):\n",
    "    \"\"\"\n",
    "    Use Euler integration to solve ODEs\n",
    "    \"\"\"\n",
    "    # Make sure initial lengths are physical\n",
    "    if gamma * (x0[0] + x0[1]) + x0[2] > 1:\n",
    "        raise RuntimeError(\"gamma * (ell_1 + ell_2) + n must be <= 1\")\n",
    "\n",
    "    # Starting time point (in the past)\n",
    "    t0 = -max(x0[0] / u, x0[1] / u)\n",
    "\n",
    "    # Time points to consider\n",
    "    t_points = np.concatenate(((t0,), np.arange(0, t_stop, dt)))\n",
    "\n",
    "    # Initialize output array\n",
    "    x = np.empty((len(t_points), 3))\n",
    "    x[0:2, :] = np.array([x0, x0])\n",
    "\n",
    "    # Do Euler stepping\n",
    "    for i, t in enumerate(t_points[2:]):\n",
    "        # Do linear interpolation of past points to find past n\n",
    "        n_1 = np.interp(t - x[i + 1, 0] / u, t_points[: i + 2], x[: i + 2, 2])\n",
    "        n_2 = np.interp(t - x[i + 1, 1] / u, t_points[: i + 2], x[: i + 2, 2])\n",
    "\n",
    "        # Take Euler step\n",
    "        x[i + 2] = x[i + 1] + dt * dx_dt(x[i + 1], n_1, n_2, gamma, u)\n",
    "\n",
    "    return t_points, x"
   ]
  },
  {
   "cell_type": "markdown",
   "metadata": {},
   "source": [
    "Now, let's see if the adjusted balance point model can fit growth of a single microtubule (assuming, by symmetry, that the two microtubules grow identially in the pH shock experiment).  We will take $v_a = 120$ µm/min, as measured by Kaminsky, et al., *PNAS*, **90**, 5519–5523, 1993. \n",
    "\n",
    "First, we write a function to generate theoretical values of the growth of the pair of microtubules in the pH shock experiment for specified time points."
   ]
  },
  {
   "cell_type": "code",
   "execution_count": 14,
   "metadata": {},
   "outputs": [],
   "source": [
    "v_a = 120  # µm/min\n",
    "\n",
    "\n",
    "def flag_len_adj_theor(t, alpha, beta, n_tot, ell_0):\n",
    "    \"\"\"\n",
    "    Theoretical flagellar length.\n",
    "    \"\"\"\n",
    "    # Parameters\n",
    "    gamma = beta / alpha\n",
    "    u = v_a / alpha\n",
    "\n",
    "    # Dimensionless ell_0\n",
    "    ell_0_dimless = ell_0 / gamma / n_tot\n",
    "\n",
    "    # Dimensionless time\n",
    "    t_dimless = t * alpha ** 2 / beta / n_tot\n",
    "\n",
    "    # Solve dimensionless equations\n",
    "    t_solve, x = solve_balance_point_dde(\n",
    "        np.array([ell_0_dimless, ell_0_dimless, 1 - 2 * gamma * ell_0_dimless]),\n",
    "        gamma,\n",
    "        u,\n",
    "        dt=0.0001,\n",
    "        t_stop=t_dimless.max(),\n",
    "    )\n",
    "\n",
    "    # Interpolate to values we want\n",
    "    ell_dimless = np.interp(t_dimless, t_solve, x[:, 0])\n",
    "\n",
    "    # Convert to real lengths\n",
    "    return ell_dimless * gamma * n_tot"
   ]
  },
  {
   "cell_type": "markdown",
   "metadata": {},
   "source": [
    "Now that we have a theoretical function, we can perform the curve fit."
   ]
  },
  {
   "cell_type": "code",
   "execution_count": 15,
   "metadata": {},
   "outputs": [
    {
     "name": "stdout",
     "output_type": "stream",
     "text": [
      "\n",
      "Best fit parameter values\n",
      "    α:  0.083 µm/min\n",
      "    β:  0.073 µm/min\n",
      "n_tot: 37.63  µm\n",
      "  l_0:  1.74  µm\n",
      "\n"
     ]
    }
   ],
   "source": [
    "# Curve fit\n",
    "p0 = (0.1, 0.1, 30, 2)\n",
    "popt, _ = scipy.optimize.curve_fit(\n",
    "    flag_len_adj_theor, t_exp[3:] - t_exp[3], flag_len_exp[3:], p0=p0\n",
    ")\n",
    "\n",
    "# Compute useful quantities from results\n",
    "alpha, beta, n_tot, _ = popt\n",
    "gamma = beta / alpha\n",
    "u = v_a / alpha\n",
    "\n",
    "# Steady states\n",
    "n_ss = alpha * n_tot / (alpha + 2 * beta)\n",
    "ell_ss = gamma * n_ss\n",
    "\n",
    "# Show results\n",
    "print(\n",
    "    \"\"\"\n",
    "Best fit parameter values\n",
    "    α:  {0:.3f} µm/min\n",
    "    β:  {1:.3f} µm/min\n",
    "n_tot: {2:.2f}  µm\n",
    "  l_0:  {3:.2f}  µm\n",
    "\"\"\".format(\n",
    "        *popt\n",
    "    )\n",
    ")"
   ]
  },
  {
   "cell_type": "markdown",
   "metadata": {},
   "source": [
    "Let's plot the result and see how we did."
   ]
  },
  {
   "cell_type": "code",
   "execution_count": 16,
   "metadata": {
    "scrolled": true
   },
   "outputs": [
    {
     "data": {
      "text/html": [
       "\n",
       "  <div id=\"e8fa06df-dfb1-41e7-80b9-885fc0f987a4\" data-root-id=\"p1106\" style=\"display: contents;\"></div>\n"
      ]
     },
     "metadata": {},
     "output_type": "display_data"
    },
    {
     "data": {
      "application/javascript": [
       "(function(root) {\n",
       "  function embed_document(root) {\n",
       "  const docs_json = {\"61cef3bf-9823-4975-8618-ebf3a833e9c9\":{\"version\":\"3.6.0\",\"title\":\"Bokeh Application\",\"roots\":[{\"type\":\"object\",\"name\":\"Figure\",\"id\":\"p1106\",\"attributes\":{\"x_range\":{\"type\":\"object\",\"name\":\"DataRange1d\",\"id\":\"p1107\"},\"y_range\":{\"type\":\"object\",\"name\":\"DataRange1d\",\"id\":\"p1108\"},\"x_scale\":{\"type\":\"object\",\"name\":\"LinearScale\",\"id\":\"p1115\"},\"y_scale\":{\"type\":\"object\",\"name\":\"LinearScale\",\"id\":\"p1116\"},\"title\":{\"type\":\"object\",\"name\":\"Title\",\"id\":\"p1113\"},\"renderers\":[{\"type\":\"object\",\"name\":\"GlyphRenderer\",\"id\":\"p1146\",\"attributes\":{\"data_source\":{\"type\":\"object\",\"name\":\"ColumnDataSource\",\"id\":\"p1140\",\"attributes\":{\"selected\":{\"type\":\"object\",\"name\":\"Selection\",\"id\":\"p1141\",\"attributes\":{\"indices\":[],\"line_indices\":[]}},\"selection_policy\":{\"type\":\"object\",\"name\":\"UnionRenderers\",\"id\":\"p1142\"},\"data\":{\"type\":\"map\",\"entries\":[[\"x\",{\"type\":\"ndarray\",\"array\":{\"type\":\"bytes\",\"data\":\"zpvU4TLgA0Cv+7dg49EcQMLCSZo/2ChA00wYSZIkMUDGc40Bnxw2QLqaArqrFDtASvkgNh7NP0AfEEt3lWJCQAoqcNOb3kRAUVl/EdU6R0C+LiaqdfZJQDjCYAZ8ckxAsVWbYoLuTkC1hUrQXaVQQFI+iI1H81FALxmFLGQhU0DsYqJaZ19UQKmsv4hqnVVAhYe8J4fLVkD/GveDjUdZQHmuMeCTw1tA+SA2Hs0fXkC2alNM0F1gQAN94DLgk2FAs+1yGfDJYkB9EBuP5g9kQA==\"},\"shape\":[26],\"dtype\":\"float64\",\"order\":\"little\"}],[\"y\",{\"type\":\"ndarray\",\"array\":{\"type\":\"bytes\",\"data\":\"m3JDW+dCwD+bckNb50LAP5tyQ1vnQsA/VNahYOdCAEBnpYPUcX0OQNSLsX75QRZAANNYsa44GkD+dgIvbWMeQKywU4sMEyFAEHOL8UhlIkB4RjqHW80iQAwHQrKAnSNAEKAyQJosJECocbGalRIkQNpSzc2zuyRAdxgPxrriJEB2vTy2yDAlQHa9PLbIMCVA1kFWnt2lJUDcNRk86eYlQAgjctH7TiZAB8ifwQmdJkAGbc2xF+smQKSN4bkQxCZAOam79CdGJ0A6BI4EGvgmQA==\"},\"shape\":[26],\"dtype\":\"float64\",\"order\":\"little\"}]]}}},\"view\":{\"type\":\"object\",\"name\":\"CDSView\",\"id\":\"p1147\",\"attributes\":{\"filter\":{\"type\":\"object\",\"name\":\"AllIndices\",\"id\":\"p1148\"}}},\"glyph\":{\"type\":\"object\",\"name\":\"Scatter\",\"id\":\"p1143\",\"attributes\":{\"x\":{\"type\":\"field\",\"field\":\"x\"},\"y\":{\"type\":\"field\",\"field\":\"y\"},\"line_color\":{\"type\":\"value\",\"value\":\"#1f77b4\"},\"fill_color\":{\"type\":\"value\",\"value\":\"#1f77b4\"}}},\"nonselection_glyph\":{\"type\":\"object\",\"name\":\"Scatter\",\"id\":\"p1144\",\"attributes\":{\"x\":{\"type\":\"field\",\"field\":\"x\"},\"y\":{\"type\":\"field\",\"field\":\"y\"},\"line_color\":{\"type\":\"value\",\"value\":\"#1f77b4\"},\"line_alpha\":{\"type\":\"value\",\"value\":0.1},\"fill_color\":{\"type\":\"value\",\"value\":\"#1f77b4\"},\"fill_alpha\":{\"type\":\"value\",\"value\":0.1},\"hatch_alpha\":{\"type\":\"value\",\"value\":0.1}}},\"muted_glyph\":{\"type\":\"object\",\"name\":\"Scatter\",\"id\":\"p1145\",\"attributes\":{\"x\":{\"type\":\"field\",\"field\":\"x\"},\"y\":{\"type\":\"field\",\"field\":\"y\"},\"line_color\":{\"type\":\"value\",\"value\":\"#1f77b4\"},\"line_alpha\":{\"type\":\"value\",\"value\":0.2},\"fill_color\":{\"type\":\"value\",\"value\":\"#1f77b4\"},\"fill_alpha\":{\"type\":\"value\",\"value\":0.2},\"hatch_alpha\":{\"type\":\"value\",\"value\":0.2}}}}},{\"type\":\"object\",\"name\":\"GlyphRenderer\",\"id\":\"p1157\",\"attributes\":{\"data_source\":{\"type\":\"object\",\"name\":\"ColumnDataSource\",\"id\":\"p1151\",\"attributes\":{\"selected\":{\"type\":\"object\",\"name\":\"Selection\",\"id\":\"p1152\",\"attributes\":{\"indices\":[],\"line_indices\":[]}},\"selection_policy\":{\"type\":\"object\",\"name\":\"UnionRenderers\",\"id\":\"p1153\"},\"data\":{\"type\":\"map\",\"entries\":[[\"x\",{\"type\":\"ndarray\",\"array\":{\"type\":\"bytes\",\"data\":\"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\"},\"shape\":[200],\"dtype\":\"float64\",\"order\":\"little\"}],[\"y\",{\"type\":\"ndarray\",\"array\":{\"type\":\"bytes\",\"data\":\"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\"},\"shape\":[200],\"dtype\":\"float64\",\"order\":\"little\"}]]}}},\"view\":{\"type\":\"object\",\"name\":\"CDSView\",\"id\":\"p1158\",\"attributes\":{\"filter\":{\"type\":\"object\",\"name\":\"AllIndices\",\"id\":\"p1159\"}}},\"glyph\":{\"type\":\"object\",\"name\":\"Line\",\"id\":\"p1154\",\"attributes\":{\"x\":{\"type\":\"field\",\"field\":\"x\"},\"y\":{\"type\":\"field\",\"field\":\"y\"},\"line_color\":\"dimgray\",\"line_width\":3}},\"nonselection_glyph\":{\"type\":\"object\",\"name\":\"Line\",\"id\":\"p1155\",\"attributes\":{\"x\":{\"type\":\"field\",\"field\":\"x\"},\"y\":{\"type\":\"field\",\"field\":\"y\"},\"line_color\":\"dimgray\",\"line_alpha\":0.1,\"line_width\":3}},\"muted_glyph\":{\"type\":\"object\",\"name\":\"Line\",\"id\":\"p1156\",\"attributes\":{\"x\":{\"type\":\"field\",\"field\":\"x\"},\"y\":{\"type\":\"field\",\"field\":\"y\"},\"line_color\":\"dimgray\",\"line_alpha\":0.2,\"line_width\":3}}}},{\"type\":\"object\",\"name\":\"GlyphRenderer\",\"id\":\"p1170\",\"attributes\":{\"data_source\":{\"type\":\"object\",\"name\":\"ColumnDataSource\",\"id\":\"p1164\",\"attributes\":{\"selected\":{\"type\":\"object\",\"name\":\"Selection\",\"id\":\"p1165\",\"attributes\":{\"indices\":[],\"line_indices\":[]}},\"selection_policy\":{\"type\":\"object\",\"name\":\"UnionRenderers\",\"id\":\"p1166\"},\"data\":{\"type\":\"map\",\"entries\":[[\"x\",{\"type\":\"ndarray\",\"array\":{\"type\":\"bytes\",\"data\":\"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\"},\"shape\":[200],\"dtype\":\"float64\",\"order\":\"little\"}],[\"y\",{\"type\":\"ndarray\",\"array\":{\"type\":\"bytes\",\"data\":\"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\"},\"shape\":[200],\"dtype\":\"float64\",\"order\":\"little\"}]]}}},\"view\":{\"type\":\"object\",\"name\":\"CDSView\",\"id\":\"p1171\",\"attributes\":{\"filter\":{\"type\":\"object\",\"name\":\"AllIndices\",\"id\":\"p1172\"}}},\"glyph\":{\"type\":\"object\",\"name\":\"Line\",\"id\":\"p1167\",\"attributes\":{\"x\":{\"type\":\"field\",\"field\":\"x\"},\"y\":{\"type\":\"field\",\"field\":\"y\"},\"line_color\":\"tomato\",\"line_width\":3}},\"nonselection_glyph\":{\"type\":\"object\",\"name\":\"Line\",\"id\":\"p1168\",\"attributes\":{\"x\":{\"type\":\"field\",\"field\":\"x\"},\"y\":{\"type\":\"field\",\"field\":\"y\"},\"line_color\":\"tomato\",\"line_alpha\":0.1,\"line_width\":3}},\"muted_glyph\":{\"type\":\"object\",\"name\":\"Line\",\"id\":\"p1169\",\"attributes\":{\"x\":{\"type\":\"field\",\"field\":\"x\"},\"y\":{\"type\":\"field\",\"field\":\"y\"},\"line_color\":\"tomato\",\"line_alpha\":0.2,\"line_width\":3}}}}],\"toolbar\":{\"type\":\"object\",\"name\":\"Toolbar\",\"id\":\"p1114\",\"attributes\":{\"tools\":[{\"type\":\"object\",\"name\":\"PanTool\",\"id\":\"p1127\"},{\"type\":\"object\",\"name\":\"WheelZoomTool\",\"id\":\"p1128\",\"attributes\":{\"renderers\":\"auto\"}},{\"type\":\"object\",\"name\":\"BoxZoomTool\",\"id\":\"p1129\",\"attributes\":{\"overlay\":{\"type\":\"object\",\"name\":\"BoxAnnotation\",\"id\":\"p1130\",\"attributes\":{\"syncable\":false,\"line_color\":\"black\",\"line_alpha\":1.0,\"line_width\":2,\"line_dash\":[4,4],\"fill_color\":\"lightgrey\",\"fill_alpha\":0.5,\"level\":\"overlay\",\"visible\":false,\"left\":{\"type\":\"number\",\"value\":\"nan\"},\"right\":{\"type\":\"number\",\"value\":\"nan\"},\"top\":{\"type\":\"number\",\"value\":\"nan\"},\"bottom\":{\"type\":\"number\",\"value\":\"nan\"},\"left_units\":\"canvas\",\"right_units\":\"canvas\",\"top_units\":\"canvas\",\"bottom_units\":\"canvas\",\"handles\":{\"type\":\"object\",\"name\":\"BoxInteractionHandles\",\"id\":\"p1136\",\"attributes\":{\"all\":{\"type\":\"object\",\"name\":\"AreaVisuals\",\"id\":\"p1135\",\"attributes\":{\"fill_color\":\"white\",\"hover_fill_color\":\"lightgray\"}}}}}}}},{\"type\":\"object\",\"name\":\"SaveTool\",\"id\":\"p1137\"},{\"type\":\"object\",\"name\":\"ResetTool\",\"id\":\"p1138\"},{\"type\":\"object\",\"name\":\"HelpTool\",\"id\":\"p1139\"}]}},\"left\":[{\"type\":\"object\",\"name\":\"LinearAxis\",\"id\":\"p1122\",\"attributes\":{\"ticker\":{\"type\":\"object\",\"name\":\"BasicTicker\",\"id\":\"p1123\",\"attributes\":{\"mantissas\":[1,2,5]}},\"formatter\":{\"type\":\"object\",\"name\":\"BasicTickFormatter\",\"id\":\"p1124\"},\"axis_label\":\"flag. length (\\u00b5m)\",\"major_label_policy\":{\"type\":\"object\",\"name\":\"AllLabels\",\"id\":\"p1125\"}}}],\"below\":[{\"type\":\"object\",\"name\":\"LinearAxis\",\"id\":\"p1117\",\"attributes\":{\"ticker\":{\"type\":\"object\",\"name\":\"BasicTicker\",\"id\":\"p1118\",\"attributes\":{\"mantissas\":[1,2,5]}},\"formatter\":{\"type\":\"object\",\"name\":\"BasicTickFormatter\",\"id\":\"p1119\"},\"axis_label\":\"time (min)\",\"major_label_policy\":{\"type\":\"object\",\"name\":\"AllLabels\",\"id\":\"p1120\"}}}],\"center\":[{\"type\":\"object\",\"name\":\"Grid\",\"id\":\"p1121\",\"attributes\":{\"axis\":{\"id\":\"p1117\"}}},{\"type\":\"object\",\"name\":\"Grid\",\"id\":\"p1126\",\"attributes\":{\"dimension\":1,\"axis\":{\"id\":\"p1122\"}}}],\"frame_width\":350,\"frame_height\":250}}]}};\n",
       "  const render_items = [{\"docid\":\"61cef3bf-9823-4975-8618-ebf3a833e9c9\",\"roots\":{\"p1106\":\"e8fa06df-dfb1-41e7-80b9-885fc0f987a4\"},\"root_ids\":[\"p1106\"]}];\n",
       "  void root.Bokeh.embed.embed_items_notebook(docs_json, render_items);\n",
       "  }\n",
       "  if (root.Bokeh !== undefined) {\n",
       "    embed_document(root);\n",
       "  } else {\n",
       "    let attempts = 0;\n",
       "    const timer = setInterval(function(root) {\n",
       "      if (root.Bokeh !== undefined) {\n",
       "        clearInterval(timer);\n",
       "        embed_document(root);\n",
       "      } else {\n",
       "        attempts++;\n",
       "        if (attempts > 100) {\n",
       "          clearInterval(timer);\n",
       "          console.log(\"Bokeh: ERROR: Unable to run BokehJS code because BokehJS library is missing\");\n",
       "        }\n",
       "      }\n",
       "    }, 10, root)\n",
       "  }\n",
       "})(window);"
      ],
      "application/vnd.bokehjs_exec.v0+json": ""
     },
     "metadata": {
      "application/vnd.bokehjs_exec.v0+json": {
       "id": "p1106"
      }
     },
     "output_type": "display_data"
    }
   ],
   "source": [
    "# Compute theoretical curve\n",
    "t = np.linspace(0, 160, 200)\n",
    "flag_len_model = flag_len_adj_theor(t, *popt)\n",
    "\n",
    "# Make plot of solution\n",
    "p.line(t + t_exp[3], flag_len_model, line_width=3, color='tomato')\n",
    "bokeh.io.show(p);"
   ]
  },
  {
   "cell_type": "markdown",
   "metadata": {},
   "source": [
    "Not surprisingly, the more complicated model also fits the data well. In fact, the models are almost exactly coincident, as seen by the overlap of the two theoretical lines.\n",
    "\n",
    "Now, let's see how the system will respond to a severing experiment.  We will take as an initial condition one flagellum being at the steady state length and the other being close to zero.  The total amount of tubulin is as in before, minus what was in the severed flagellum."
   ]
  },
  {
   "cell_type": "code",
   "execution_count": 17,
   "metadata": {},
   "outputs": [],
   "source": [
    "new_n_tot = n_tot - ell_ss\n",
    "\n",
    "t, x = solve_balance_point_dde(\n",
    "    np.array([ell_ss / new_n_tot, 0.01, n_ss / new_n_tot]), gamma, u, dt=0.001, t_stop=1\n",
    ")"
   ]
  },
  {
   "cell_type": "markdown",
   "metadata": {},
   "source": [
    "Now that we have the solution, we can plot the result.  The severed filament is in red and the unsevered filament is in blue."
   ]
  },
  {
   "cell_type": "code",
   "execution_count": 18,
   "metadata": {},
   "outputs": [
    {
     "data": {
      "text/html": [
       "\n",
       "  <div id=\"e95b42ce-d9b5-4b89-a7c3-04bd108f28c0\" data-root-id=\"p1179\" style=\"display: contents;\"></div>\n"
      ]
     },
     "metadata": {},
     "output_type": "display_data"
    },
    {
     "data": {
      "application/javascript": [
       "(function(root) {\n",
       "  function embed_document(root) {\n",
       "  const docs_json = {\"3af8803b-93b3-4cd4-8526-2beffdeb4bcb\":{\"version\":\"3.6.0\",\"title\":\"Bokeh Application\",\"roots\":[{\"type\":\"object\",\"name\":\"Figure\",\"id\":\"p1179\",\"attributes\":{\"x_range\":{\"type\":\"object\",\"name\":\"DataRange1d\",\"id\":\"p1180\"},\"y_range\":{\"type\":\"object\",\"name\":\"DataRange1d\",\"id\":\"p1181\"},\"x_scale\":{\"type\":\"object\",\"name\":\"LinearScale\",\"id\":\"p1188\"},\"y_scale\":{\"type\":\"object\",\"name\":\"LinearScale\",\"id\":\"p1189\"},\"title\":{\"type\":\"object\",\"name\":\"Title\",\"id\":\"p1186\"},\"renderers\":[{\"type\":\"object\",\"name\":\"GlyphRenderer\",\"id\":\"p1219\",\"attributes\":{\"data_source\":{\"type\":\"object\",\"name\":\"ColumnDataSource\",\"id\":\"p1213\",\"attributes\":{\"selected\":{\"type\":\"object\",\"name\":\"Selection\",\"id\":\"p1214\",\"attributes\":{\"indices\":[],\"line_indices\":[]}},\"selection_policy\":{\"type\":\"object\",\"name\":\"UnionRenderers\",\"id\":\"p1215\"},\"data\":{\"type\":\"map\",\"entries\":[[\"x\",{\"type\":\"ndarray\",\"array\":{\"type\":\"bytes\",\"data\":\"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\"},\"shape\":[1001],\"dtype\":\"float64\",\"order\":\"little\"}],[\"y\",{\"type\":\"ndarray\",\"array\":{\"type\":\"bytes\",\"data\":\"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\"},\"shape\":[1001],\"dtype\":\"float64\",\"order\":\"little\"}]]}}},\"view\":{\"type\":\"object\",\"name\":\"CDSView\",\"id\":\"p1220\",\"attributes\":{\"filter\":{\"type\":\"object\",\"name\":\"AllIndices\",\"id\":\"p1221\"}}},\"glyph\":{\"type\":\"object\",\"name\":\"Line\",\"id\":\"p1216\",\"attributes\":{\"x\":{\"type\":\"field\",\"field\":\"x\"},\"y\":{\"type\":\"field\",\"field\":\"y\"},\"line_color\":\"#1f77b4\",\"line_width\":3}},\"nonselection_glyph\":{\"type\":\"object\",\"name\":\"Line\",\"id\":\"p1217\",\"attributes\":{\"x\":{\"type\":\"field\",\"field\":\"x\"},\"y\":{\"type\":\"field\",\"field\":\"y\"},\"line_color\":\"#1f77b4\",\"line_alpha\":0.1,\"line_width\":3}},\"muted_glyph\":{\"type\":\"object\",\"name\":\"Line\",\"id\":\"p1218\",\"attributes\":{\"x\":{\"type\":\"field\",\"field\":\"x\"},\"y\":{\"type\":\"field\",\"field\":\"y\"},\"line_color\":\"#1f77b4\",\"line_alpha\":0.2,\"line_width\":3}}}},{\"type\":\"object\",\"name\":\"GlyphRenderer\",\"id\":\"p1228\",\"attributes\":{\"data_source\":{\"type\":\"object\",\"name\":\"ColumnDataSource\",\"id\":\"p1222\",\"attributes\":{\"selected\":{\"type\":\"object\",\"name\":\"Selection\",\"id\":\"p1223\",\"attributes\":{\"indices\":[],\"line_indices\":[]}},\"selection_policy\":{\"type\":\"object\",\"name\":\"UnionRenderers\",\"id\":\"p1224\"},\"data\":{\"type\":\"map\",\"entries\":[[\"x\",{\"type\":\"ndarray\",\"array\":{\"type\":\"bytes\",\"data\":\"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\"},\"shape\":[1001],\"dtype\":\"float64\",\"order\":\"little\"}],[\"y\",{\"type\":\"ndarray\",\"array\":{\"type\":\"bytes\",\"data\":\"vNyb6nPAzD+83Jvqc8DMP/FQyrIsZfY/b9PZT4TY+D+pwoOJ6fz6PydkgE4M6Pw/KgHpZh2n/j8oZsB5byEAQFTkA1C/4ABAouRAf8WTAUACQ6Q1PzwCQFHFapSJ2wJAmMoEiLxyA0DFBqGovAIEQAIsJY5HjARAxq8gkfwPBUC4TyMqY44FQGWFEK/vBwZANm2V6gZ9BkDVdnvgAO4GQHJlV/cqWwdAyQcDr8nEB0AGNfD/GSsIQKj+pHdSjghALO5QIaTuCECQTJ9FO0wJQD4zMQpApwlAmqwu99b/CUAZ7OdnIVYKQOhLaOo9qgpACeIJkUj8CkCGrnc4W0wLQHGQEMSNmgtARPs8UvbmC0ArCP5pqTEMQGH9wCK6egxA8RFTRzrCDEDGTat0OggNQKHZITXKTA1A50yTGPiPDUC9UtrJ0dENQD9u+SFkEg5A3/xAObtRDkD2RbJ24o8OQLT71p3kzA5A3rI828sID0BxO73PoUMPQE4yt5pvfQ9ATG5V4z22D0Bn6v/gFO4PQBmzhjF+EhBAigXl630tEEBlcnIpDUgQQGXqqUkvYhBAPuZdhOd7EEByvzTsOJUQQKyq8nAmrhBA3h2W4bLGEEAI5Uru4N4QQM6xNyqz9hBATIopDSwOEUAMICD1TSURQN7HvScbPBFAKISd05VSEUCfVJERwGgRQNTGyuWbfhFAgZHvQCuUEUDD2BsBcKkRQD6S0/JrvhFASF3k0SDTEUANBDlKkOcRQJK+n/i7+xFAgjeEa6UPEkAqPJ4jTiMSQKzslZS3NhJAVi+eJeNJEkBqGQYy0lwSQNHwwQmGbxJAwVzs8f+BEkAeT0AlQZQSQDoljNRKphJAv3QeJx64EkAh8Cw7vMkSQNbFNSYm2xJA5NVb9VzsEkBiEr6tYf0SQE5Zykw1DhNAKhCMyNgeE0CZxPYPTS8TQGMQLQuTPxNAuPrDm6tPE0CHDAOdl18TQOZJIeRXbxNAKj9/QO1+E0AHTd57WI4TQC9clVqanRNAGR7Dm7OsE0BF/n35pLsTQMTkASlvyhNA5+jb2hLZE0C9EBS7kOcTQGw4VXHp9RNAmjoToR0EFECLca/pLRIUQCWnm+YaIBRAyoh7L+UtFEBkskRYjTsUQEZjXfETSRRA+e25h3lWFEBX8/ikvmMUQDV4fs/jcBRAFuSNiul9FEBy9mJW0IoUQGu/SbCYlxRABai1EkOkFEBKlVf1z7AUQCkxM80/vRRAMmOzDJPJFEDYAr4jytUUQF/Mxn/l4RRA+aDhi+XtFEBVGtSwyvkUQE15JlWVBRVABvcz3UURFUBwfzqr3BwVQMjbaR9aKBVASlPyl74zFUAEyBJxCj8VQHlVJgU+ShVAVXaxrFlVFUBhtm6+XWAVQG71Wo9KaxVA7T/BciB2FUB7QUa634AVQJlV87WIixVAgDpBtBuWFUDZaSICmaAVQOkaDesAqxVAsPEEuVO1FUAxXqS0kb8VQP6uJSW7yRVAGNprUNDTFUDV/gp70d0VQK6jUOi+5xVAYrJL2pjxFUAFNdSRX/sVQEjWkk4TBRZARycIT7QOFkD6rJPQQhgWQGa3eg+/IRZAhQTvRikrFkDIMBWxgTQWQP/2CofIPRZAdUHtAP5GFkDQDd5VIlAWQGAlCrw1WRZAZauuaDhiFkC2gh6QKmsWQDqMx2UMdBZAjb83HN58FkAVHyLln4UWQM6IY/FRjhZA+GQHcfSWFkDMM0yTh58WQFn7p4YLqBZAhJbMeICwFkBZ5quW5rgWQGXmeww+wRZAUqW6BYfJFkB2IjKtwdEWQEgR/Czu2RZAk4OFrgziFkA5e5JaHeoWQDJkQVkg8hZAq3cO0hX6FkDcCNfr/QEXQGG83MzYCRdAo6rImqYRF0AZbq56ZxkXQN4dD5EbIRdARjXcAcMoF0ANaXrwXTAXQI1qxH/sNxdAspkN0m4/F0AKpiQJ5UYXQH4fVkZPThdAP/duqq1VF0A28b5VAF0XQJ0GG2hHZBdABrrfAINrF0BDXfM+s3IXQLlJyEDYeRdARwtfJPKAF0BafkgHAYgXQGThpwYFjxdAIdo0P/6VF0AJbz3N7JwXQCv1p8zQoxdA3PL0WKqqF0B490CNebEXQI9oRoQ+uBdAtkRfWPm+F0BX3IYjqsUXQLmAW/9QzBdAhCkgBe7SF0AOEb5NgdkXQJtHxvEK4BdA3z1zCYvmF0DyRqqsAe0XQP4R/fJu8xdAyRur89L5F0BjGKPFLQAYQB5VhH9/BhhAFhOgN8gMGEBg2voDCBMYQCzGTfo+GRhA6skHMG0fGEC57066kiUYQECQAa6vKxhAFoS3H8QxGEDvTsMj0DcYQKlEM87TPRhAaajSMs9DGEDixSplwkkYQP0EhHitTxhA9ffmf5BVGEAIZB2Oa1sYQO5Es7U+YRhAK8v3CApnGEBXVf6ZzWwYQIhkn3qJchhA9ot5vD14GEDtW/Jw6n0YQDNIN6mPgxhABoo+di2JGECr/cfow44YQNr7XRFTlBhA6C5WANuZGED8Y9LFW58YQENYwXHVpBhAQILfE0iqGEBl17e7s68YQOmNpHgYtRhAEdvPWXa6GEDhrTRuzb8YQGNmn8QdxRhAlImua2fKGED0cdNxqs8YQOv8UuXm1BhA+zRG1BzaGEDg+JpMTN8YQLSfFFx15BhAC5pMEJjpGEA/ELN2tO4YQNp9j5zK8xhARUoBj9r4GEC5XgBb5P0YQJa5XQ3oAhlAEf/DsuUHGUBpB7hX3QwZQJJqmQjPERlAfgmj0boWGUD7lOu+oBsZQDUSZtyAIBlACF3iNVslGUD1pw3XLyoZQAX6csv+LhlAa6p7HsgzGUAi2m/bizgZQG7rdg1KPRlAXfeXvwJCGUBQQbr8tUYZQI2opc9jSxlA8xcDQwxQGUDQ81xhr1QZQOCFHzVNWRlAgWeZyOVdGUA16vsleWIZQFd+W1cHZxlAMxiwZpBrGUBuk9VdFHAZQM4UjEaTdBlAeGp4Kg15GUCQaiQTgn0ZQFxQ/wnygRlA4xdeGF2GGUAc2HtHw4oZQKAbeqAkjxlA/TdhLIGTGUCfoyD02JcZQGNKjwAsnBlAzuBrWnqgGUD8NV0KxKQZQDqE8hgJqRlAccCjjkmtGUBC6NFzhbEZQPBOx9C8tRlAIOm3re+5GUBel8ESHr4ZQJdv7AdIwhlATAUrlW3GGUDTsFrCjsoZQFzVQ5erzhlAAiaaG8TSGUDB6fxW2NYZQGM+91Do2hlAdFoAEfTeGUAuznue++IZQHTDuQD/5hlA0jz3Pv7qGUCGU15g+e4ZQLZ0Bmzw8hlAlp30aOP2GUDRlhte0voZQPguXFK9/hlAGHSFTKQCGkCH7FRThwYaQMXOdm1mChpAojiGoUEOGkCBZQ32GBIaQOfjhXHsFRpAMspYGrwZGkCQ6t72hx0aQEMGYQ1QIRpAEwAYZBQlGkAYDi0B1SgaQMrqueqRLBpAUwXJJkswGkBCsVW7ADQaQH9VTK6yNxpAopqKBWE7GkCfmN/GCz8aQMQDDPiyQhpAJ1nCnlZGGkBfCqfA9kkaQLeoUGOTTRpArg9IjCxRGkDyjghBwlQaQMUTAIdUWBpAwVGPY+NbGkAX6wncbl8aQEGYtvX2YhpAIk/PtXtmGkCaaYEh/WkaQJ/L7T17bRpAxQgpEPZwGkBHiTudbXQaQIuuIerhdxpANvfL+1J7GkCrIh/XwH4aQCNU9IArghpAQjUZ/pKFGkA7GFBT94gaQHAZUIVYjBpAuUDFmLaPGkAgolCSEZMaQDh+iHZplhpAB2L4Sb6ZGkB9RiEREJ0aQIivedBeoBpAu8ptjKqjGkCJjV9J86YaQCDTpgs5qhpA4nmR13utGkBygGOxu7AaQGMiV534sxpAjvScnzK3GkAAAVy8aboaQI/isfedvRpAFOCyVc/AGkBGB2ra/cMaQEZH2YkpxxpAxYr5Z1LKGkDl0bp4eM0aQLNLBMCb0BpAW2+0QbzTGkD9FKEB2tYaQD+OlwP12RpAhL5cSw3dGkDZMq3cIuAaQJA5Pbs14xpAlPm46kXmGkBnicRuU+kaQOYF/Epe7BpAtqjzgmbvGkBo3jcabPIaQGJcTRRv9RpAeDaxdG/4GkA99Ng+bfsaQBmmMnZo/hpAGfokHmEBG0B1UA86VwQbQNnPSc1KBxtAenkl2zsKG0DVPOxmKg0bQDwL4XMWEBtAKus/BQATG0BKCz4e5xUbQFbVCcLLGBtApgDL860bG0CXpKK2jR4bQKtKqw1rIRtAeAD5+0UkG0BbaZmEHicbQPPPk6r0KRtAbzfpcMgsG0CXbJTamS8bQKgWiupoMhtAAsi4ozU1G0CVDgkJADgbQCmEXR3IOhtAYd6S4409G0Cs/n9eUUAbQN0B9pASQxtAs0/AfdFFG0AhqqQnjkgbQHU8Y5FISxtAO6q2vQBOG0AGHlSvtlAbQApY62hqUxtAe7wm7RtWG0DQYas+y1gbQNMeGWB4WxtAi5gKVCNeG0D3TxUdzGAbQKGvyb1yYxtACRmzOBdmG0Dm8VeQuWgbQESxOcdZaxtAeOzU3/dtG0DkY6Hck3AbQKYPEsAtcxtAESyVjMV1G0AORpREW3gbQEtHdOruehtAUYKVgIB9G0BvvlMJEIAbQItDBoedghtAveX/+yiFG0DcEI9qsocbQOLT/dQ5ihtAI+yRPb+MG0B40IymQo8bQDi8KxLEkRtAFrqngkOUG0DjrjX6wJYbQCVkBns8mRtAppJGB7abG0DB7B6hLZ4bQLgotEqjoBtAzgonBhejG0BOb5TViKUbQHxUFbv4pxtAWOS+uGaqG0BZfqLQ0qwbQPnAzQQ9rxtANpNKV6WxG0DkLR/KC7QbQAAlTl9wthtAw3DWGNO4G0C+drP4M7sbQMsS3QCTvRtA4Z9HM/C/G0DZAOSRS8IbQA6pnx6lxBtA9KRk2/zGG0CLohnKUskbQK/5oeymyxtAcrTdRPnNG0A+l6nUSdAbQOso352Y0htAwbpUouXUG0BicN3jMNcbQJhHSWR62RtAFCBlJcLbG0ASw/ooCN4bQO7q0HBM4BtAlkqr/o7iG0D4lErUz+QbQFCEbPMO5xtAZOHLXUzpG0CqiiAViOsbQGN7HxvC7RtAjtJ6cfrvG0Dl2eEZMfIbQKQMARZm9BtAXh6CZ5n2G0CkAQwQy/gbQKzuQhH7+htA3GnIbCn9G0BISjskVv8bQBXANzmBARxA1lpXraoDHEDNDzGC0gUcQCRAWbn4BxxADb9hVB0KHEDR19lUQAwcQNxTTrxhDhxAoIBJjIEQHEB9NVPGnxIcQI3Z8Gu8FBxAammlftcWHEDWfPH/8BgcQGJMU/EIGxxA+LZGVB8dHEBkR0UqNB8cQMM5xnRHIRxA54A+NVkjHECjyyBtaSUcQCiK3R14JxxAIPPiSIUpHEDsCJ3vkCscQLiedRObLRxAil3UtaMvHEA8yR7YqjEcQHpFuHuwMxxAmhoCorQ1HEB7eltMtzccQEyFIXy4ORxASE6vMrg7HEBt4F1xtj0cQBdDhDmzPxxAnX53jK5BHEDYoIprqEMcQKTBDtigRRxAVAdT05dHHEAOq6RejUkcQDf9TnuBSxxAr2mbKnRNHEAjfNFtZU8cQDvkNkZVURxAznkPtUNTHED6QJ27MFUcQEZuIFscVxxAn2rXlAZZHEBq1/5p71ocQGWS0dvWXBxApLmI67xeHEBor1uaoWAcQPkdgOmEYhxAcfsp2mZkHEB/jYttR2YcQBxt1aQmaBxAOoo2gQRqHEByL9wD4WscQI0F8i28bRxAIxeiAJZvHEAi1BR9bnEcQEEVcaRFcxxAhR/cdxt1HECjp3n473YcQGDVayfDeBxA90bTBZV6HEBkFM+UZXwcQKrSfNU0fhxAEJf4yAKAHEBr+lxwz4EcQDEcw8yagxxAvKVC32SFHEBPzfGoLYccQEBZ5Sr1iBxA+6IwZruKHEAHmuVbgIwcQBLHFA1EjhxA107NegaQHEAT9Rymx5EcQHMfEJCHkxxAZdixOUaVHED/0QukA5ccQMZoJtC/mBxAeKYIv3qaHEDXRLhxNJwcQFewOensnRxA2gqQJqSfHEBeLr0qWqEcQJ6vwfYOoxxAsuCci8KkHECr00zqdKYcQCJdzhMmqBxAwxYdCdapHEDQYTPLhKscQKdpClsyrRxALiaaud6uHEBLXtnnibAcQFKqveYzshxAYHY7t9yzHEDEBEZahLUcQFFwz9AqtxxAta7IG9C4HEC9kiE8dLocQK/OyDIXvBxAb/arALm9HEDWgbemWb8cQNTO1iX5wBxAqiP0fpfCHEAQsfiyNMQcQF2UzMLQxRxAotlWr2vHHEDMfX15BckcQK5wJSKeyhxAGJcyqjXMHEDgzIcSzM0cQObmBlxhzxxAFbWQh/XQHEBZBAWWiNIcQKCgQoga1BxAv1YnX6vVHEBl9o8bO9ccQP5TWL7J2BxAnkpbSFfaHEDSvXK649scQIKbdxVv3RxAxt1BWvneHECvjKiJguAcQBnAgaQK4hxAbaGiq5HjHEBlbd+fF+UcQNB1C4Kc5hxAQCP5UiDoHEDH9nkTo+kcQKmLXsQk6xxAAJl2ZqXsHEB185D6JO4cQNCOe4Gj7xxArH8D/CDxHEAG/fRqnfIcQNlhG88Y9BxAuS5BKZP1HEBYCzB6DPccQB7IsMKE+BxAp1+LA/z5HEBX+IY9cvscQMnlaXHn/BxAXqr5n1v+HECn+PrJzv8cQOu0MfBAAR1AkPZgE7ICHUCMCUs0IgQdQM9vsVORBR1AsuJUcv8GHUBUVPWQbAgdQAHxUbDYCR1AiyAp0UMLHUCqhzj0rQwdQFEJPRoXDh1AAMjyQ38PHUAZJxVy5hAdQCjMXqVMEh1ANKCJ3rETHUAE0U4eFhUdQGDSZmV5Fh1AWV+JtNsXHUCAe20MPRkdQCJ0yW2dGh1AiuFS2fwbHUArqL5PWx0dQND5wNG4Hh1A3FYNYBUgHUBnj1b7cCEdQG3ETqTLIh1A92inWyUkHUA5QxEifiUdQL9tPPjVJh1AfljY3iwoHUD8yZPWgikdQGHgHODXKh1AkRIh/CssHUBDMU0rfy0dQA1oTW7RLh1AeT7NxSIwHUAPmXcyczEdQF269rTCMh1AAET0TRE0HUCvNxn+XjUdQDD4DcarNh1AbEp6pvc3HUBaVgWgQjkdQAmoVbOMOh1AjzAR4dU7HUAFR90pHj0dQHypXo5lPh1A9H05D6w/HUA/UxGt8UAdQP0hiWg2Qh1AgU1DQnpDHUDApOE6vUQdQDBjBVP/RR1AtTFPi0BHHUCDJ1/kgEgdQAHL1F7ASR1AoBJP+/5KHUDHZWy6PEwdQJ6dypx5TR1A9QUHo7VOHUAVXr7N8E8dQJXZjB0rUR1AMiEOk2RSHUCXU90unVMdQDsGlfHUVB1AJEbP2wtWHUC4mCXuQVcdQIT8MCl3WB1ABuqJjatZHUB1VMgb31odQIiqg9QRXB1ALtdSuENdHUBeQszHdF4dQM3RhQOlXx1Ar+kUbNRgHUB1bQ4CA2IdQITABsYwYx1A8MaRuF1kHUA15kLaiWUdQOYFrSu1Zh1AbZBird9nHUCxc/VfCWkdQNAh90Myah1AyZH4WVprHUAsQIqigWwdQMUvPB6obR1AS+qdzc1uHUAGgT6x8m8dQHaNrMkWcR1A+jF2FzpyHUB4GimbXHMdQPt8UlV+dB1AYBp/Rp91HUDlPjtvv3YdQNvCEtDedx1AOAuRaf14HUA4CkE8G3odQPY/rUg4ex1AC7tfj1R8HUAgGeIQcH0dQIqHvc2Kfh1A3cN6xqR/HUCFHKL7vYAdQFhxu23WgR1AIDROHe6CHUA5aeEKBYQdQBuo+zYbhR1A5hsjojCGHUDzg91MRYcdQF00sDdZiB1AkxYgY2yJHUDYqbHPfoodQNED6X2Qix1AENFJbqGMHUCPVVehsY0dQERtlBfBjh1AnIyD0c+PHUD9wKbP3ZAdQEyxfxLrkR1AbZ6PmveSHUDGY1doA5QdQLZ3V3wOlR1AF+wP1xiWHUC/bgB5IpcdQPJJqGIrmB1A52SGlDOZHUA7RBkPO5odQGkK39JBmx1ASXhV4EecHUB+7fk3TZ0dQPNoSdpRnh1AR4nAx1WfHUBLjdsAWaAdQG9UFoZboR1ANV/sV12iHUCjz9h2XqMdQK9pVuNepB1AuJPfnV6lHUDlVu6mXaYdQKVf/P5bpx1AC/6CplmoHUBIJvudVqkdQARx3eVSqh1A3xuifk6rHUDHCcFoSawdQGfDsaRDrR1Ak3frMj2uHUCo++QTNq8dQPTLFEgusB1AHwzxzyWxHUCKh++rHLIdQLaxhdwSsx1Ao6YoYgi0HUA6K009/bQdQKStZ27xtR1AsUXs9eS2HUA0tU7U17cdQGtoAgrKuB1AUXZ6l7u5HUACoSl9rLodQBhWgrucux1AB6/2Uoy8HUB3cfhDe70dQKAP+Y5pvh1AoKhpNFe/HUDgCLs0RMAdQF6qXZAwwR1ADrXBRxzCHUAx/1ZbB8MdQKoNjcvxwx1AURTTmNvEHUBQ9pfDxMUdQHFGSkytxh1AdUdYM5XHHUBp7C95fMgdQPTYPh5jyR1AsmHyIknKHUB+jLeHLssdQMQQ+0wTzB1A1Vcpc/fMHUA0fa762s0dQOlO9uO9zh1AzU1sL6DPHUDYrXvdgdAdQG9Wj+5i0R1As+IRY0PSHUDLoW07I9MdQDOXDHgC1B1AA3tYGeHUHUBBurofv9UdQCJ3nIuc1h1AXYlmXXnXHUByfoGVVdgdQOmZVTQx2R1AsNVKOgzaHUBH4sin5todQCMnN33A2x1A3cL8upncHUCLi4Bhct0dQPoOKXFK3h1A+ZJc6iHfHUCcFYHN+N8dQIBN/BrP4B1AEqoz06ThHUDOU4z2eeIdQIQsa4VO4x1Anc80gCLkHUBckk3n9eQdQBuEGbvI5R1Ak278+5rmHUAZ1lmqbOcdQN/5lMY96B1AM9QQUQ7pHUDHGjBK3ukdQN4+VbKt6h1AnW3iiXzrHUBAkDnRSuwdQFlMvIgY7R1ADwTMsOXtHUBb1slJsu4dQESfFlR+7x1AGPgS0EnwHUCuNx++FPEdQKFymx7f8R1AhHvn8ajyHUAm42I4cvMdQMP4bPI69B1AR8pkIAP1HUCBJKnCyvUdQGKTmNmR9h1ALmKRZVj3HUDAm/FmHvgdQLMKF97j+B1AqDlfy6j5HUB4cycvbfodQGfDzAkx+x1AZPWrW/T7HUA4liElt/wdQLjziWZ5/R1ADB1BIDv+HUDT4qJS/P4dQGHXCv68/x1A807UIn0AHkDbX1rBPAEeQMTi99n7AR5A2nIHbboCHkD/beN6eAMeQAP15QM2BB5A0etoCPMEHkCp+cWIrwUeQEeJVoVrBh5AI8lz/iYHHkCaq3b04QceQB7nt2ecCB5AcfaPWFYJHkDIGFfHDwoeQAhSZbTICh5A8GoSIIELHkBJ8bUKOQweQBw4p3TwDB5A2Vc9XqcNHkCILs/HXQ4eQP9fs7ETDx5ACVZAHMkPHkCVQMwHfhAeQO0VrXQyER5A1pI4Y+YRHkDKOsTTmRIeQCBYpcZMEx5ANfwwPP8THkCl/7s0sRQeQGsCm7BiFR5AE2wisBMWHkDna6YzxBYeQBr5ejt0Fx5A8tLzxyMYHkD5gGTZ0hgeQCJTIHCBGR5A82F6jC8aHkC2jsUu3RoeQKWDVFeKGx5ACLR5BjccHkBtXIc84xweQMuCz/mOHR5Aq/ajPjoeHkBVUVYL5R4eQPb1N2CPHx5AzRGaPTkgHkBOnM2j4iAeQFJXI5OLIR5AOM/rCzQiHkAQW3cO3CIeQMkcFpuDIx5AUAEYsiokHkC4wMxT0SQeQGveg4B3JR5ARamMOB0mHkDEOzZ8wiYeQCt8z0tnJx5AqBynpwsoHkB8mwuQrygeQCFDSwVTKR5Abyq0B/YpHkDGNJSXmCoeQC0SObU6Kx5AfD/wYNwrHkCCBgebfSweQCh+ymMeLR5AkoqHu74tHkBQ3YqiXi4eQHX1IBn+Lh5AxR+WH50vHkDUdja2OzAeQCrjTd3ZMB5AbBsolXcxHkB9pBDeFDIeQKDRUrixMh5Am8Q5JE4zHkDfbRAi6jMeQKaMIbKFNB5AGa+31CA1HkBwMh2KuzUeQB1DnNJVNh5A39x+ru82HkDzyg4eiTceQDKolSEiOB5AL99cubo4HkBZqq3lUjkeQCgU0abqOR5ALvcP/YE6HkBD/rLoGDseQKWkAmqvOx5AFTZHgUU8HkAAz8gu2zweQJZcz3JwPR5A8pyiTQU+HkA5H4q/mT4eQLdDzcgtPx5ABTyzacE/HkAlC4OiVEAeQKOFg3PnQB5AtFH73HlBHkBc5zDfC0IeQISQanqdQh5AHmnuri5DHkBKXwJ9v0MeQGkz7ORPRB5ASHjx5t9EHkA6k1eDb0UeQDS8Y7r+RR5A8f1ajI1GHkANNoL5G0ceQCYVHgKqRx5A+h5zpjdIHkCFqsXmxEgeQBziWcNRSR5AksNzPN5JHkBNIFdSakoeQGydRwX2Sh5A47OIVYFLHkCSsF1DDEweQGu0Cc+WTB5Ai7TP+CBNHkBXevLAqk0eQJujtCc0Th5AqaJYLb1OHkBtviDSRU8eQA==\"},\"shape\":[1001],\"dtype\":\"float64\",\"order\":\"little\"}]]}}},\"view\":{\"type\":\"object\",\"name\":\"CDSView\",\"id\":\"p1229\",\"attributes\":{\"filter\":{\"type\":\"object\",\"name\":\"AllIndices\",\"id\":\"p1230\"}}},\"glyph\":{\"type\":\"object\",\"name\":\"Line\",\"id\":\"p1225\",\"attributes\":{\"x\":{\"type\":\"field\",\"field\":\"x\"},\"y\":{\"type\":\"field\",\"field\":\"y\"},\"line_color\":\"crimson\",\"line_width\":3}},\"nonselection_glyph\":{\"type\":\"object\",\"name\":\"Line\",\"id\":\"p1226\",\"attributes\":{\"x\":{\"type\":\"field\",\"field\":\"x\"},\"y\":{\"type\":\"field\",\"field\":\"y\"},\"line_color\":\"crimson\",\"line_alpha\":0.1,\"line_width\":3}},\"muted_glyph\":{\"type\":\"object\",\"name\":\"Line\",\"id\":\"p1227\",\"attributes\":{\"x\":{\"type\":\"field\",\"field\":\"x\"},\"y\":{\"type\":\"field\",\"field\":\"y\"},\"line_color\":\"crimson\",\"line_alpha\":0.2,\"line_width\":3}}}}],\"toolbar\":{\"type\":\"object\",\"name\":\"Toolbar\",\"id\":\"p1187\",\"attributes\":{\"tools\":[{\"type\":\"object\",\"name\":\"PanTool\",\"id\":\"p1200\"},{\"type\":\"object\",\"name\":\"WheelZoomTool\",\"id\":\"p1201\",\"attributes\":{\"renderers\":\"auto\"}},{\"type\":\"object\",\"name\":\"BoxZoomTool\",\"id\":\"p1202\",\"attributes\":{\"overlay\":{\"type\":\"object\",\"name\":\"BoxAnnotation\",\"id\":\"p1203\",\"attributes\":{\"syncable\":false,\"line_color\":\"black\",\"line_alpha\":1.0,\"line_width\":2,\"line_dash\":[4,4],\"fill_color\":\"lightgrey\",\"fill_alpha\":0.5,\"level\":\"overlay\",\"visible\":false,\"left\":{\"type\":\"number\",\"value\":\"nan\"},\"right\":{\"type\":\"number\",\"value\":\"nan\"},\"top\":{\"type\":\"number\",\"value\":\"nan\"},\"bottom\":{\"type\":\"number\",\"value\":\"nan\"},\"left_units\":\"canvas\",\"right_units\":\"canvas\",\"top_units\":\"canvas\",\"bottom_units\":\"canvas\",\"handles\":{\"type\":\"object\",\"name\":\"BoxInteractionHandles\",\"id\":\"p1209\",\"attributes\":{\"all\":{\"type\":\"object\",\"name\":\"AreaVisuals\",\"id\":\"p1208\",\"attributes\":{\"fill_color\":\"white\",\"hover_fill_color\":\"lightgray\"}}}}}}}},{\"type\":\"object\",\"name\":\"SaveTool\",\"id\":\"p1210\"},{\"type\":\"object\",\"name\":\"ResetTool\",\"id\":\"p1211\"},{\"type\":\"object\",\"name\":\"HelpTool\",\"id\":\"p1212\"}]}},\"left\":[{\"type\":\"object\",\"name\":\"LinearAxis\",\"id\":\"p1195\",\"attributes\":{\"ticker\":{\"type\":\"object\",\"name\":\"BasicTicker\",\"id\":\"p1196\",\"attributes\":{\"mantissas\":[1,2,5]}},\"formatter\":{\"type\":\"object\",\"name\":\"BasicTickFormatter\",\"id\":\"p1197\"},\"axis_label\":\"flag. length (\\u00b5m)\",\"major_label_policy\":{\"type\":\"object\",\"name\":\"AllLabels\",\"id\":\"p1198\"}}}],\"below\":[{\"type\":\"object\",\"name\":\"LinearAxis\",\"id\":\"p1190\",\"attributes\":{\"ticker\":{\"type\":\"object\",\"name\":\"BasicTicker\",\"id\":\"p1191\",\"attributes\":{\"mantissas\":[1,2,5]}},\"formatter\":{\"type\":\"object\",\"name\":\"BasicTickFormatter\",\"id\":\"p1192\"},\"axis_label\":\"time (min)\",\"major_label_policy\":{\"type\":\"object\",\"name\":\"AllLabels\",\"id\":\"p1193\"}}}],\"center\":[{\"type\":\"object\",\"name\":\"Grid\",\"id\":\"p1194\",\"attributes\":{\"axis\":{\"id\":\"p1190\"}}},{\"type\":\"object\",\"name\":\"Grid\",\"id\":\"p1199\",\"attributes\":{\"dimension\":1,\"axis\":{\"id\":\"p1195\"}}}],\"frame_width\":650,\"frame_height\":350}}]}};\n",
       "  const render_items = [{\"docid\":\"3af8803b-93b3-4cd4-8526-2beffdeb4bcb\",\"roots\":{\"p1179\":\"e95b42ce-d9b5-4b89-a7c3-04bd108f28c0\"},\"root_ids\":[\"p1179\"]}];\n",
       "  void root.Bokeh.embed.embed_items_notebook(docs_json, render_items);\n",
       "  }\n",
       "  if (root.Bokeh !== undefined) {\n",
       "    embed_document(root);\n",
       "  } else {\n",
       "    let attempts = 0;\n",
       "    const timer = setInterval(function(root) {\n",
       "      if (root.Bokeh !== undefined) {\n",
       "        clearInterval(timer);\n",
       "        embed_document(root);\n",
       "      } else {\n",
       "        attempts++;\n",
       "        if (attempts > 100) {\n",
       "          clearInterval(timer);\n",
       "          console.log(\"Bokeh: ERROR: Unable to run BokehJS code because BokehJS library is missing\");\n",
       "        }\n",
       "      }\n",
       "    }, 10, root)\n",
       "  }\n",
       "})(window);"
      ],
      "application/vnd.bokehjs_exec.v0+json": ""
     },
     "metadata": {
      "application/vnd.bokehjs_exec.v0+json": {
       "id": "p1179"
      }
     },
     "output_type": "display_data"
    }
   ],
   "source": [
    "# Make plot of solution\n",
    "p = bokeh.plotting.figure(\n",
    "    frame_width=650,\n",
    "    frame_height=350,\n",
    "    x_axis_label=\"time (min)\",\n",
    "    y_axis_label=\"flag. length (µm)\",\n",
    ")\n",
    "\n",
    "t_plot = t * beta / alpha ** 2 * new_n_tot\n",
    "p.line(t_plot, x[:, 0] * gamma * new_n_tot, line_width=3)\n",
    "p.line(t_plot, x[:, 1] * gamma * new_n_tot, line_width=3, color=\"crimson\")\n",
    "bokeh.io.show(p)"
   ]
  },
  {
   "cell_type": "markdown",
   "metadata": {},
   "source": [
    "Discussion on the shapes of these curves is in the main lecture notes."
   ]
  },
  {
   "cell_type": "markdown",
   "metadata": {},
   "source": [
    "## Computing environment"
   ]
  },
  {
   "cell_type": "code",
   "execution_count": 19,
   "metadata": {},
   "outputs": [
    {
     "name": "stdout",
     "output_type": "stream",
     "text": [
      "Python implementation: CPython\n",
      "Python version       : 3.12.8\n",
      "IPython version      : 8.27.0\n",
      "\n",
      "numpy     : 1.26.4\n",
      "scipy     : 1.14.1\n",
      "bokeh     : 3.6.0\n",
      "jupyterlab: 4.2.6\n",
      "\n"
     ]
    }
   ],
   "source": [
    "%load_ext watermark\n",
    "%watermark -v -p numpy,scipy,bokeh,jupyterlab"
   ]
  }
 ],
 "metadata": {
  "kernelspec": {
   "display_name": "Python 3 (ipykernel)",
   "language": "python",
   "name": "python3"
  },
  "language_info": {
   "codemirror_mode": {
    "name": "ipython",
    "version": 3
   },
   "file_extension": ".py",
   "mimetype": "text/x-python",
   "name": "python",
   "nbconvert_exporter": "python",
   "pygments_lexer": "ipython3",
   "version": "3.12.8"
  }
 },
 "nbformat": 4,
 "nbformat_minor": 4
}
